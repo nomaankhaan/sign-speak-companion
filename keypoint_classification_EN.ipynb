{
 "cells": [
  {
   "cell_type": "code",
   "execution_count": 26,
   "metadata": {
    "id": "igMyGnjE9hEp"
   },
   "outputs": [],
   "source": [
    "import csv\n",
    "\n",
    "import numpy as np\n",
    "import tensorflow as tf\n",
    "from sklearn.model_selection import train_test_split\n",
    "\n",
    "RANDOM_SEED = 42"
   ]
  },
  {
   "cell_type": "markdown",
   "metadata": {
    "id": "t2HDvhIu9hEr"
   },
   "source": [
    "# Specify each path"
   ]
  },
  {
   "cell_type": "code",
   "execution_count": 27,
   "metadata": {
    "id": "9NvZP2Zn9hEy"
   },
   "outputs": [],
   "source": [
    "dataset = 'model/keypoint_classifier/keypoint.csv'\n",
    "model_save_path = 'model/keypoint_classifier/keypoint_classifier.hdf5'\n",
    "tflite_save_path = 'model/keypoint_classifier/keypoint_classifier.tflite'"
   ]
  },
  {
   "cell_type": "markdown",
   "metadata": {
    "id": "s5oMH7x19hEz"
   },
   "source": [
    "# Set number of classes"
   ]
  },
  {
   "cell_type": "code",
   "execution_count": 28,
   "metadata": {
    "id": "du4kodXL9hEz"
   },
   "outputs": [],
   "source": [
    "NUM_CLASSES = 71"
   ]
  },
  {
   "cell_type": "markdown",
   "metadata": {
    "id": "XjnL0uso9hEz"
   },
   "source": [
    "# Dataset reading"
   ]
  },
  {
   "cell_type": "code",
   "execution_count": 29,
   "metadata": {
    "id": "QT5ZqtEz9hE0"
   },
   "outputs": [],
   "source": [
    "X_dataset = np.loadtxt(dataset, delimiter=',', dtype='float32', usecols=list(range(1, (21*2 + 21*2 + 2*1) + 1)))"
   ]
  },
  {
   "cell_type": "code",
   "execution_count": 30,
   "metadata": {
    "id": "QmoKFsp49hE0"
   },
   "outputs": [],
   "source": [
    "y_dataset = np.loadtxt(dataset, delimiter=',', dtype='int32', usecols=(0))"
   ]
  },
  {
   "cell_type": "code",
   "execution_count": 31,
   "metadata": {
    "id": "xQU7JTZ_9hE0"
   },
   "outputs": [],
   "source": [
    "X_train, X_test, y_train, y_test = train_test_split(X_dataset, y_dataset, train_size=0.75, random_state=RANDOM_SEED)"
   ]
  },
  {
   "cell_type": "markdown",
   "metadata": {
    "id": "mxK_lETT9hE0"
   },
   "source": [
    "# Model building"
   ]
  },
  {
   "cell_type": "code",
   "execution_count": 32,
   "metadata": {
    "id": "vHBmUf1t9hE1"
   },
   "outputs": [],
   "source": [
    "# model = tf.keras.models.Sequential([\n",
    "#     tf.keras.layers.Input((21*2 + 21*2 + 2*1 )),\n",
    "#     tf.keras.layers.Dropout(0.2),\n",
    "#     tf.keras.layers.Dense(20, activation='relu'),\n",
    "#     tf.keras.layers.Dropout(0.4),\n",
    "#     tf.keras.layers.Dense(10, activation='relu'),\n",
    "#     tf.keras.layers.Dense(NUM_CLASSES, activation='softmax')\n",
    "# ])"
   ]
  },
  {
   "cell_type": "code",
   "execution_count": 33,
   "metadata": {},
   "outputs": [],
   "source": [
    "model = tf.keras.models.Sequential([\n",
    "    tf.keras.layers.Input((21*2 + 21*2 + 2*1 )),\n",
    "    tf.keras.layers.Dense(90, activation='relu'),\n",
    "    tf.keras.layers.Dropout(0.2),\n",
    "    tf.keras.layers.Dense(120, activation='relu'),\n",
    "    tf.keras.layers.Dropout(0.4),\n",
    "    tf.keras.layers.Dense(50, activation='relu'),\n",
    "    tf.keras.layers.Dense(NUM_CLASSES, activation='softmax')\n",
    "])"
   ]
  },
  {
   "cell_type": "code",
   "execution_count": 34,
   "metadata": {},
   "outputs": [],
   "source": [
    "# model = tf.keras.models.Sequential([\n",
    "#     tf.keras.layers.Input((21*2 + 21*2 + 2*1 )),\n",
    "#     tf.keras.layers.Dropout(0.2),\n",
    "#     tf.keras.layers.Dense(100, activation='relu'),\n",
    "#     tf.keras.layers.Dropout(0.4),\n",
    "#     tf.keras.layers.Dense(50, activation='relu'),\n",
    "#     tf.keras.layers.Dense(NUM_CLASSES, activation='softmax')\n",
    "# ])"
   ]
  },
  {
   "cell_type": "code",
   "execution_count": 35,
   "metadata": {
    "colab": {
     "base_uri": "https://localhost:8080/"
    },
    "id": "ypqky9tc9hE1",
    "outputId": "5db082bb-30e3-4110-bf63-a1ee777ecd46"
   },
   "outputs": [
    {
     "name": "stdout",
     "output_type": "stream",
     "text": [
      "Model: \"sequential_1\"\n",
      "_________________________________________________________________\n",
      " Layer (type)                Output Shape              Param #   \n",
      "=================================================================\n",
      " dense_4 (Dense)             (None, 90)                7830      \n",
      "                                                                 \n",
      " dropout_2 (Dropout)         (None, 90)                0         \n",
      "                                                                 \n",
      " dense_5 (Dense)             (None, 120)               10920     \n",
      "                                                                 \n",
      " dropout_3 (Dropout)         (None, 120)               0         \n",
      "                                                                 \n",
      " dense_6 (Dense)             (None, 50)                6050      \n",
      "                                                                 \n",
      " dense_7 (Dense)             (None, 71)                3621      \n",
      "                                                                 \n",
      "=================================================================\n",
      "Total params: 28421 (111.02 KB)\n",
      "Trainable params: 28421 (111.02 KB)\n",
      "Non-trainable params: 0 (0.00 Byte)\n",
      "_________________________________________________________________\n"
     ]
    }
   ],
   "source": [
    "model.summary()  # tf.keras.utils.plot_model(model, show_shapes=True)"
   ]
  },
  {
   "cell_type": "code",
   "execution_count": 36,
   "metadata": {
    "id": "MbMjOflQ9hE1"
   },
   "outputs": [],
   "source": [
    "# Model checkpoint callback\n",
    "cp_callback = tf.keras.callbacks.ModelCheckpoint(\n",
    "    model_save_path, verbose=1, save_weights_only=False)\n",
    "# Callback for early stopping\n",
    "es_callback = tf.keras.callbacks.EarlyStopping(patience=20, verbose=1)"
   ]
  },
  {
   "cell_type": "code",
   "execution_count": 37,
   "metadata": {
    "id": "c3Dac0M_9hE2"
   },
   "outputs": [],
   "source": [
    "# Model compilation\n",
    "model.compile(\n",
    "    optimizer='adam',\n",
    "    loss='sparse_categorical_crossentropy',\n",
    "    metrics=['accuracy']\n",
    ")"
   ]
  },
  {
   "cell_type": "markdown",
   "metadata": {
    "id": "7XI0j1Iu9hE2"
   },
   "source": [
    "# Model training"
   ]
  },
  {
   "cell_type": "code",
   "execution_count": 38,
   "metadata": {
    "colab": {
     "base_uri": "https://localhost:8080/"
    },
    "id": "WirBl-JE9hE3",
    "outputId": "71b30ca2-8294-4d9d-8aa2-800d90d399de",
    "scrolled": true
   },
   "outputs": [
    {
     "name": "stdout",
     "output_type": "stream",
     "text": [
      "Epoch 1/3550\n",
      "48/50 [===========================>..] - ETA: 0s - loss: 4.0612 - accuracy: 0.0487\n",
      "Epoch 1: saving model to model/keypoint_classifier\\keypoint_classifier.hdf5\n",
      "50/50 [==============================] - 3s 23ms/step - loss: 4.0452 - accuracy: 0.0510 - val_loss: 3.5061 - val_accuracy: 0.1159\n",
      "Epoch 2/3550\n",
      "12/50 [======>.......................] - ETA: 0s - loss: 3.5221 - accuracy: 0.1230"
     ]
    },
    {
     "name": "stderr",
     "output_type": "stream",
     "text": [
      "C:\\Users\\Sanjay\\AppData\\Local\\Programs\\Python\\Python39\\lib\\site-packages\\keras\\src\\engine\\training.py:3000: UserWarning: You are saving your model as an HDF5 file via `model.save()`. This file format is considered legacy. We recommend using instead the native Keras format, e.g. `model.save('my_model.keras')`.\n",
      "  saving_api.save_model(\n"
     ]
    },
    {
     "name": "stdout",
     "output_type": "stream",
     "text": [
      "45/50 [==========================>...] - ETA: 0s - loss: 3.1740 - accuracy: 0.1550\n",
      "Epoch 2: saving model to model/keypoint_classifier\\keypoint_classifier.hdf5\n",
      "50/50 [==============================] - 1s 15ms/step - loss: 3.1299 - accuracy: 0.1595 - val_loss: 2.3816 - val_accuracy: 0.3250\n",
      "Epoch 3/3550\n",
      "48/50 [===========================>..] - ETA: 0s - loss: 2.3964 - accuracy: 0.2751\n",
      "Epoch 3: saving model to model/keypoint_classifier\\keypoint_classifier.hdf5\n",
      "50/50 [==============================] - 1s 14ms/step - loss: 2.3878 - accuracy: 0.2752 - val_loss: 1.8129 - val_accuracy: 0.5047\n",
      "Epoch 4/3550\n",
      "50/50 [==============================] - ETA: 0s - loss: 1.9943 - accuracy: 0.3676\n",
      "Epoch 4: saving model to model/keypoint_classifier\\keypoint_classifier.hdf5\n",
      "50/50 [==============================] - 1s 15ms/step - loss: 1.9943 - accuracy: 0.3676 - val_loss: 1.4936 - val_accuracy: 0.6098\n",
      "Epoch 5/3550\n",
      "49/50 [============================>.] - ETA: 0s - loss: 1.7288 - accuracy: 0.4410\n",
      "Epoch 5: saving model to model/keypoint_classifier\\keypoint_classifier.hdf5\n",
      "50/50 [==============================] - 1s 14ms/step - loss: 1.7252 - accuracy: 0.4418 - val_loss: 1.2766 - val_accuracy: 0.6318\n",
      "Epoch 6/3550\n",
      "50/50 [==============================] - ETA: 0s - loss: 1.5282 - accuracy: 0.4927\n",
      "Epoch 6: saving model to model/keypoint_classifier\\keypoint_classifier.hdf5\n",
      "50/50 [==============================] - 1s 14ms/step - loss: 1.5282 - accuracy: 0.4927 - val_loss: 1.1113 - val_accuracy: 0.6876\n",
      "Epoch 7/3550\n",
      "49/50 [============================>.] - ETA: 0s - loss: 1.3755 - accuracy: 0.5394\n",
      "Epoch 7: saving model to model/keypoint_classifier\\keypoint_classifier.hdf5\n",
      "50/50 [==============================] - 1s 14ms/step - loss: 1.3752 - accuracy: 0.5399 - val_loss: 1.0008 - val_accuracy: 0.7322\n",
      "Epoch 8/3550\n",
      "47/50 [===========================>..] - ETA: 0s - loss: 1.2651 - accuracy: 0.5844\n",
      "Epoch 8: saving model to model/keypoint_classifier\\keypoint_classifier.hdf5\n",
      "50/50 [==============================] - 1s 15ms/step - loss: 1.2652 - accuracy: 0.5877 - val_loss: 0.9211 - val_accuracy: 0.7528\n",
      "Epoch 9/3550\n",
      "50/50 [==============================] - ETA: 0s - loss: 1.1628 - accuracy: 0.6141\n",
      "Epoch 9: saving model to model/keypoint_classifier\\keypoint_classifier.hdf5\n",
      "50/50 [==============================] - 1s 15ms/step - loss: 1.1628 - accuracy: 0.6141 - val_loss: 0.8121 - val_accuracy: 0.7739\n",
      "Epoch 10/3550\n",
      "46/50 [==========================>...] - ETA: 0s - loss: 1.0825 - accuracy: 0.6445\n",
      "Epoch 10: saving model to model/keypoint_classifier\\keypoint_classifier.hdf5\n",
      "50/50 [==============================] - 1s 14ms/step - loss: 1.0745 - accuracy: 0.6462 - val_loss: 0.7500 - val_accuracy: 0.7955\n",
      "Epoch 11/3550\n",
      "44/50 [=========================>....] - ETA: 0s - loss: 1.0058 - accuracy: 0.6648\n",
      "Epoch 11: saving model to model/keypoint_classifier\\keypoint_classifier.hdf5\n",
      "50/50 [==============================] - 1s 15ms/step - loss: 1.0077 - accuracy: 0.6656 - val_loss: 0.6851 - val_accuracy: 0.7913\n",
      "Epoch 12/3550\n",
      "46/50 [==========================>...] - ETA: 0s - loss: 0.9150 - accuracy: 0.6968\n",
      "Epoch 12: saving model to model/keypoint_classifier\\keypoint_classifier.hdf5\n",
      "50/50 [==============================] - 1s 15ms/step - loss: 0.9155 - accuracy: 0.6964 - val_loss: 0.6252 - val_accuracy: 0.8246\n",
      "Epoch 13/3550\n",
      "45/50 [==========================>...] - ETA: 0s - loss: 0.8659 - accuracy: 0.7122\n",
      "Epoch 13: saving model to model/keypoint_classifier\\keypoint_classifier.hdf5\n",
      "50/50 [==============================] - 1s 14ms/step - loss: 0.8618 - accuracy: 0.7129 - val_loss: 0.5830 - val_accuracy: 0.8372\n",
      "Epoch 14/3550\n",
      "49/50 [============================>.] - ETA: 0s - loss: 0.8221 - accuracy: 0.7114\n",
      "Epoch 14: saving model to model/keypoint_classifier\\keypoint_classifier.hdf5\n",
      "50/50 [==============================] - 1s 15ms/step - loss: 0.8197 - accuracy: 0.7129 - val_loss: 0.5426 - val_accuracy: 0.8518\n",
      "Epoch 15/3550\n",
      "47/50 [===========================>..] - ETA: 0s - loss: 0.7628 - accuracy: 0.7420\n",
      "Epoch 15: saving model to model/keypoint_classifier\\keypoint_classifier.hdf5\n",
      "50/50 [==============================] - 1s 15ms/step - loss: 0.7580 - accuracy: 0.7430 - val_loss: 0.5083 - val_accuracy: 0.8555\n",
      "Epoch 16/3550\n",
      "47/50 [===========================>..] - ETA: 0s - loss: 0.7279 - accuracy: 0.7475\n",
      "Epoch 16: saving model to model/keypoint_classifier\\keypoint_classifier.hdf5\n",
      "50/50 [==============================] - 1s 15ms/step - loss: 0.7265 - accuracy: 0.7478 - val_loss: 0.4743 - val_accuracy: 0.8630\n",
      "Epoch 17/3550\n",
      "47/50 [===========================>..] - ETA: 0s - loss: 0.6852 - accuracy: 0.7633\n",
      "Epoch 17: saving model to model/keypoint_classifier\\keypoint_classifier.hdf5\n",
      "50/50 [==============================] - 1s 15ms/step - loss: 0.6803 - accuracy: 0.7639 - val_loss: 0.4426 - val_accuracy: 0.8870\n",
      "Epoch 18/3550\n",
      "48/50 [===========================>..] - ETA: 0s - loss: 0.6427 - accuracy: 0.7785\n",
      "Epoch 18: saving model to model/keypoint_classifier\\keypoint_classifier.hdf5\n",
      "50/50 [==============================] - 1s 14ms/step - loss: 0.6493 - accuracy: 0.7766 - val_loss: 0.4349 - val_accuracy: 0.8823\n",
      "Epoch 19/3550\n",
      "48/50 [===========================>..] - ETA: 0s - loss: 0.6267 - accuracy: 0.7842\n",
      "Epoch 19: saving model to model/keypoint_classifier\\keypoint_classifier.hdf5\n",
      "50/50 [==============================] - 1s 14ms/step - loss: 0.6255 - accuracy: 0.7836 - val_loss: 0.4106 - val_accuracy: 0.8818\n",
      "Epoch 20/3550\n",
      "50/50 [==============================] - ETA: 0s - loss: 0.5933 - accuracy: 0.7938\n",
      "Epoch 20: saving model to model/keypoint_classifier\\keypoint_classifier.hdf5\n",
      "50/50 [==============================] - 1s 15ms/step - loss: 0.5933 - accuracy: 0.7938 - val_loss: 0.3843 - val_accuracy: 0.9024\n",
      "Epoch 21/3550\n",
      "48/50 [===========================>..] - ETA: 0s - loss: 0.5632 - accuracy: 0.8016\n",
      "Epoch 21: saving model to model/keypoint_classifier\\keypoint_classifier.hdf5\n",
      "50/50 [==============================] - 1s 14ms/step - loss: 0.5636 - accuracy: 0.8033 - val_loss: 0.3666 - val_accuracy: 0.9081\n",
      "Epoch 22/3550\n",
      "49/50 [============================>.] - ETA: 0s - loss: 0.5344 - accuracy: 0.8187\n",
      "Epoch 22: saving model to model/keypoint_classifier\\keypoint_classifier.hdf5\n",
      "50/50 [==============================] - 1s 14ms/step - loss: 0.5334 - accuracy: 0.8188 - val_loss: 0.3470 - val_accuracy: 0.9095\n",
      "Epoch 23/3550\n",
      "47/50 [===========================>..] - ETA: 0s - loss: 0.5167 - accuracy: 0.8200\n",
      "Epoch 23: saving model to model/keypoint_classifier\\keypoint_classifier.hdf5\n",
      "50/50 [==============================] - 1s 14ms/step - loss: 0.5192 - accuracy: 0.8191 - val_loss: 0.3339 - val_accuracy: 0.9132\n",
      "Epoch 24/3550\n",
      "47/50 [===========================>..] - ETA: 0s - loss: 0.5021 - accuracy: 0.8256\n",
      "Epoch 24: saving model to model/keypoint_classifier\\keypoint_classifier.hdf5\n",
      "50/50 [==============================] - 1s 15ms/step - loss: 0.5018 - accuracy: 0.8238 - val_loss: 0.3194 - val_accuracy: 0.9174\n",
      "Epoch 25/3550\n",
      "50/50 [==============================] - ETA: 0s - loss: 0.4872 - accuracy: 0.8330\n",
      "Epoch 25: saving model to model/keypoint_classifier\\keypoint_classifier.hdf5\n",
      "50/50 [==============================] - 1s 14ms/step - loss: 0.4872 - accuracy: 0.8330 - val_loss: 0.3071 - val_accuracy: 0.9137\n",
      "Epoch 26/3550\n",
      "49/50 [============================>.] - ETA: 0s - loss: 0.4654 - accuracy: 0.8371\n",
      "Epoch 26: saving model to model/keypoint_classifier\\keypoint_classifier.hdf5\n",
      "50/50 [==============================] - 1s 14ms/step - loss: 0.4637 - accuracy: 0.8379 - val_loss: 0.3032 - val_accuracy: 0.9090\n",
      "Epoch 27/3550\n",
      "45/50 [==========================>...] - ETA: 0s - loss: 0.4484 - accuracy: 0.8438\n",
      "Epoch 27: saving model to model/keypoint_classifier\\keypoint_classifier.hdf5\n",
      "50/50 [==============================] - 1s 14ms/step - loss: 0.4530 - accuracy: 0.8426 - val_loss: 0.2788 - val_accuracy: 0.9329\n",
      "Epoch 28/3550\n",
      "46/50 [==========================>...] - ETA: 0s - loss: 0.4335 - accuracy: 0.8480\n",
      "Epoch 28: saving model to model/keypoint_classifier\\keypoint_classifier.hdf5\n",
      "50/50 [==============================] - 1s 15ms/step - loss: 0.4359 - accuracy: 0.8463 - val_loss: 0.2686 - val_accuracy: 0.9325\n",
      "Epoch 29/3550\n"
     ]
    },
    {
     "name": "stdout",
     "output_type": "stream",
     "text": [
      "46/50 [==========================>...] - ETA: 0s - loss: 0.4192 - accuracy: 0.8544\n",
      "Epoch 29: saving model to model/keypoint_classifier\\keypoint_classifier.hdf5\n",
      "50/50 [==============================] - 1s 15ms/step - loss: 0.4172 - accuracy: 0.8552 - val_loss: 0.2555 - val_accuracy: 0.9381\n",
      "Epoch 30/3550\n",
      "46/50 [==========================>...] - ETA: 0s - loss: 0.4107 - accuracy: 0.8614\n",
      "Epoch 30: saving model to model/keypoint_classifier\\keypoint_classifier.hdf5\n",
      "50/50 [==============================] - 1s 14ms/step - loss: 0.4076 - accuracy: 0.8598 - val_loss: 0.2428 - val_accuracy: 0.9423\n",
      "Epoch 31/3550\n",
      "48/50 [===========================>..] - ETA: 0s - loss: 0.4028 - accuracy: 0.8564\n",
      "Epoch 31: saving model to model/keypoint_classifier\\keypoint_classifier.hdf5\n",
      "50/50 [==============================] - 1s 14ms/step - loss: 0.4001 - accuracy: 0.8582 - val_loss: 0.2577 - val_accuracy: 0.9240\n",
      "Epoch 32/3550\n",
      "49/50 [============================>.] - ETA: 0s - loss: 0.3902 - accuracy: 0.8624\n",
      "Epoch 32: saving model to model/keypoint_classifier\\keypoint_classifier.hdf5\n",
      "50/50 [==============================] - 1s 15ms/step - loss: 0.3900 - accuracy: 0.8621 - val_loss: 0.2463 - val_accuracy: 0.9212\n",
      "Epoch 33/3550\n",
      "50/50 [==============================] - ETA: 0s - loss: 0.3740 - accuracy: 0.8666\n",
      "Epoch 33: saving model to model/keypoint_classifier\\keypoint_classifier.hdf5\n",
      "50/50 [==============================] - 1s 14ms/step - loss: 0.3740 - accuracy: 0.8666 - val_loss: 0.2391 - val_accuracy: 0.9475\n",
      "Epoch 34/3550\n",
      "45/50 [==========================>...] - ETA: 0s - loss: 0.3606 - accuracy: 0.8731\n",
      "Epoch 34: saving model to model/keypoint_classifier\\keypoint_classifier.hdf5\n",
      "50/50 [==============================] - 1s 15ms/step - loss: 0.3661 - accuracy: 0.8704 - val_loss: 0.2289 - val_accuracy: 0.9320\n",
      "Epoch 35/3550\n",
      "47/50 [===========================>..] - ETA: 0s - loss: 0.3617 - accuracy: 0.8737\n",
      "Epoch 35: saving model to model/keypoint_classifier\\keypoint_classifier.hdf5\n",
      "50/50 [==============================] - 1s 16ms/step - loss: 0.3585 - accuracy: 0.8734 - val_loss: 0.2230 - val_accuracy: 0.9432\n",
      "Epoch 36/3550\n",
      "48/50 [===========================>..] - ETA: 0s - loss: 0.3462 - accuracy: 0.8786\n",
      "Epoch 36: saving model to model/keypoint_classifier\\keypoint_classifier.hdf5\n",
      "50/50 [==============================] - 1s 14ms/step - loss: 0.3443 - accuracy: 0.8790 - val_loss: 0.2051 - val_accuracy: 0.9545\n",
      "Epoch 37/3550\n",
      "46/50 [==========================>...] - ETA: 0s - loss: 0.3292 - accuracy: 0.8857\n",
      "Epoch 37: saving model to model/keypoint_classifier\\keypoint_classifier.hdf5\n",
      "50/50 [==============================] - 1s 14ms/step - loss: 0.3287 - accuracy: 0.8862 - val_loss: 0.2084 - val_accuracy: 0.9451\n",
      "Epoch 38/3550\n",
      "45/50 [==========================>...] - ETA: 0s - loss: 0.3182 - accuracy: 0.8913\n",
      "Epoch 38: saving model to model/keypoint_classifier\\keypoint_classifier.hdf5\n",
      "50/50 [==============================] - 1s 15ms/step - loss: 0.3219 - accuracy: 0.8906 - val_loss: 0.2045 - val_accuracy: 0.9465\n",
      "Epoch 39/3550\n",
      "48/50 [===========================>..] - ETA: 0s - loss: 0.3152 - accuracy: 0.8931\n",
      "Epoch 39: saving model to model/keypoint_classifier\\keypoint_classifier.hdf5\n",
      "50/50 [==============================] - 1s 14ms/step - loss: 0.3168 - accuracy: 0.8923 - val_loss: 0.1986 - val_accuracy: 0.9554\n",
      "Epoch 40/3550\n",
      "48/50 [===========================>..] - ETA: 0s - loss: 0.3083 - accuracy: 0.8895\n",
      "Epoch 40: saving model to model/keypoint_classifier\\keypoint_classifier.hdf5\n",
      "50/50 [==============================] - 1s 15ms/step - loss: 0.3087 - accuracy: 0.8890 - val_loss: 0.1929 - val_accuracy: 0.9447\n",
      "Epoch 41/3550\n",
      "49/50 [============================>.] - ETA: 0s - loss: 0.2998 - accuracy: 0.8967\n",
      "Epoch 41: saving model to model/keypoint_classifier\\keypoint_classifier.hdf5\n",
      "50/50 [==============================] - 1s 15ms/step - loss: 0.2998 - accuracy: 0.8963 - val_loss: 0.1875 - val_accuracy: 0.9442\n",
      "Epoch 42/3550\n",
      "49/50 [============================>.] - ETA: 0s - loss: 0.3012 - accuracy: 0.8932\n",
      "Epoch 42: saving model to model/keypoint_classifier\\keypoint_classifier.hdf5\n",
      "50/50 [==============================] - 1s 15ms/step - loss: 0.3017 - accuracy: 0.8931 - val_loss: 0.1926 - val_accuracy: 0.9461\n",
      "Epoch 43/3550\n",
      "47/50 [===========================>..] - ETA: 0s - loss: 0.2956 - accuracy: 0.8976\n",
      "Epoch 43: saving model to model/keypoint_classifier\\keypoint_classifier.hdf5\n",
      "50/50 [==============================] - 1s 15ms/step - loss: 0.2953 - accuracy: 0.8965 - val_loss: 0.1982 - val_accuracy: 0.9432\n",
      "Epoch 44/3550\n",
      "48/50 [===========================>..] - ETA: 0s - loss: 0.2906 - accuracy: 0.8939\n",
      "Epoch 44: saving model to model/keypoint_classifier\\keypoint_classifier.hdf5\n",
      "50/50 [==============================] - 1s 15ms/step - loss: 0.2927 - accuracy: 0.8937 - val_loss: 0.1804 - val_accuracy: 0.9498\n",
      "Epoch 45/3550\n",
      "50/50 [==============================] - ETA: 0s - loss: 0.2870 - accuracy: 0.9012\n",
      "Epoch 45: saving model to model/keypoint_classifier\\keypoint_classifier.hdf5\n",
      "50/50 [==============================] - 1s 15ms/step - loss: 0.2870 - accuracy: 0.9012 - val_loss: 0.1864 - val_accuracy: 0.9475\n",
      "Epoch 46/3550\n",
      "50/50 [==============================] - ETA: 0s - loss: 0.2790 - accuracy: 0.9012\n",
      "Epoch 46: saving model to model/keypoint_classifier\\keypoint_classifier.hdf5\n",
      "50/50 [==============================] - 1s 15ms/step - loss: 0.2790 - accuracy: 0.9012 - val_loss: 0.1837 - val_accuracy: 0.9522\n",
      "Epoch 47/3550\n",
      "50/50 [==============================] - ETA: 0s - loss: 0.2730 - accuracy: 0.9024\n",
      "Epoch 47: saving model to model/keypoint_classifier\\keypoint_classifier.hdf5\n",
      "50/50 [==============================] - 1s 16ms/step - loss: 0.2730 - accuracy: 0.9024 - val_loss: 0.1762 - val_accuracy: 0.9536\n",
      "Epoch 48/3550\n",
      "46/50 [==========================>...] - ETA: 0s - loss: 0.2884 - accuracy: 0.9020\n",
      "Epoch 48: saving model to model/keypoint_classifier\\keypoint_classifier.hdf5\n",
      "50/50 [==============================] - 1s 15ms/step - loss: 0.2833 - accuracy: 0.9037 - val_loss: 0.1728 - val_accuracy: 0.9592\n",
      "Epoch 49/3550\n",
      "45/50 [==========================>...] - ETA: 0s - loss: 0.2649 - accuracy: 0.9104\n",
      "Epoch 49: saving model to model/keypoint_classifier\\keypoint_classifier.hdf5\n",
      "50/50 [==============================] - 1s 15ms/step - loss: 0.2627 - accuracy: 0.9099 - val_loss: 0.1711 - val_accuracy: 0.9508\n",
      "Epoch 50/3550\n",
      "48/50 [===========================>..] - ETA: 0s - loss: 0.2705 - accuracy: 0.9079\n",
      "Epoch 50: saving model to model/keypoint_classifier\\keypoint_classifier.hdf5\n",
      "50/50 [==============================] - 1s 15ms/step - loss: 0.2685 - accuracy: 0.9079 - val_loss: 0.1592 - val_accuracy: 0.9611\n",
      "Epoch 51/3550\n",
      "45/50 [==========================>...] - ETA: 0s - loss: 0.2443 - accuracy: 0.9137\n",
      "Epoch 51: saving model to model/keypoint_classifier\\keypoint_classifier.hdf5\n",
      "50/50 [==============================] - 1s 14ms/step - loss: 0.2451 - accuracy: 0.9131 - val_loss: 0.1559 - val_accuracy: 0.9644\n",
      "Epoch 52/3550\n",
      "49/50 [============================>.] - ETA: 0s - loss: 0.2405 - accuracy: 0.9173\n",
      "Epoch 52: saving model to model/keypoint_classifier\\keypoint_classifier.hdf5\n",
      "50/50 [==============================] - 1s 14ms/step - loss: 0.2397 - accuracy: 0.9174 - val_loss: 0.1524 - val_accuracy: 0.9648\n",
      "Epoch 53/3550\n",
      "45/50 [==========================>...] - ETA: 0s - loss: 0.2376 - accuracy: 0.9158\n",
      "Epoch 53: saving model to model/keypoint_classifier\\keypoint_classifier.hdf5\n",
      "50/50 [==============================] - 1s 14ms/step - loss: 0.2386 - accuracy: 0.9148 - val_loss: 0.1619 - val_accuracy: 0.9634\n",
      "Epoch 54/3550\n",
      "48/50 [===========================>..] - ETA: 0s - loss: 0.2268 - accuracy: 0.9201\n",
      "Epoch 54: saving model to model/keypoint_classifier\\keypoint_classifier.hdf5\n",
      "50/50 [==============================] - 1s 14ms/step - loss: 0.2273 - accuracy: 0.9196 - val_loss: 0.1492 - val_accuracy: 0.9667\n",
      "Epoch 55/3550\n",
      "48/50 [===========================>..] - ETA: 0s - loss: 0.2405 - accuracy: 0.9124\n",
      "Epoch 55: saving model to model/keypoint_classifier\\keypoint_classifier.hdf5\n",
      "50/50 [==============================] - 1s 14ms/step - loss: 0.2423 - accuracy: 0.9121 - val_loss: 0.1594 - val_accuracy: 0.9545\n"
     ]
    },
    {
     "name": "stdout",
     "output_type": "stream",
     "text": [
      "Epoch 56/3550\n",
      "46/50 [==========================>...] - ETA: 0s - loss: 0.2260 - accuracy: 0.9215\n",
      "Epoch 56: saving model to model/keypoint_classifier\\keypoint_classifier.hdf5\n",
      "50/50 [==============================] - 1s 14ms/step - loss: 0.2275 - accuracy: 0.9207 - val_loss: 0.1513 - val_accuracy: 0.9634\n",
      "Epoch 57/3550\n",
      "47/50 [===========================>..] - ETA: 0s - loss: 0.2121 - accuracy: 0.9264\n",
      "Epoch 57: saving model to model/keypoint_classifier\\keypoint_classifier.hdf5\n",
      "50/50 [==============================] - 1s 14ms/step - loss: 0.2121 - accuracy: 0.9256 - val_loss: 0.1489 - val_accuracy: 0.9620\n",
      "Epoch 58/3550\n",
      "49/50 [============================>.] - ETA: 0s - loss: 0.2139 - accuracy: 0.9243\n",
      "Epoch 58: saving model to model/keypoint_classifier\\keypoint_classifier.hdf5\n",
      "50/50 [==============================] - 1s 16ms/step - loss: 0.2144 - accuracy: 0.9240 - val_loss: 0.1531 - val_accuracy: 0.9526\n",
      "Epoch 59/3550\n",
      "40/50 [=======================>......] - ETA: 0s - loss: 0.2200 - accuracy: 0.9275\n",
      "Epoch 59: saving model to model/keypoint_classifier\\keypoint_classifier.hdf5\n",
      "50/50 [==============================] - 0s 7ms/step - loss: 0.2212 - accuracy: 0.9239 - val_loss: 0.1424 - val_accuracy: 0.9681\n",
      "Epoch 60/3550\n",
      "47/50 [===========================>..] - ETA: 0s - loss: 0.2177 - accuracy: 0.9217\n",
      "Epoch 60: saving model to model/keypoint_classifier\\keypoint_classifier.hdf5\n",
      "50/50 [==============================] - 1s 12ms/step - loss: 0.2192 - accuracy: 0.9210 - val_loss: 0.1459 - val_accuracy: 0.9568\n",
      "Epoch 61/3550\n",
      "49/50 [============================>.] - ETA: 0s - loss: 0.2141 - accuracy: 0.9255\n",
      "Epoch 61: saving model to model/keypoint_classifier\\keypoint_classifier.hdf5\n",
      "50/50 [==============================] - 1s 15ms/step - loss: 0.2128 - accuracy: 0.9259 - val_loss: 0.1495 - val_accuracy: 0.9629\n",
      "Epoch 62/3550\n",
      "48/50 [===========================>..] - ETA: 0s - loss: 0.2087 - accuracy: 0.9217\n",
      "Epoch 62: saving model to model/keypoint_classifier\\keypoint_classifier.hdf5\n",
      "50/50 [==============================] - 1s 12ms/step - loss: 0.2070 - accuracy: 0.9225 - val_loss: 0.1439 - val_accuracy: 0.9700\n",
      "Epoch 63/3550\n",
      "43/50 [========================>.....] - ETA: 0s - loss: 0.2056 - accuracy: 0.9284\n",
      "Epoch 63: saving model to model/keypoint_classifier\\keypoint_classifier.hdf5\n",
      "50/50 [==============================] - 1s 13ms/step - loss: 0.2012 - accuracy: 0.9303 - val_loss: 0.1382 - val_accuracy: 0.9662\n",
      "Epoch 64/3550\n",
      "46/50 [==========================>...] - ETA: 0s - loss: 0.2002 - accuracy: 0.9302\n",
      "Epoch 64: saving model to model/keypoint_classifier\\keypoint_classifier.hdf5\n",
      "50/50 [==============================] - 1s 13ms/step - loss: 0.1992 - accuracy: 0.9306 - val_loss: 0.1460 - val_accuracy: 0.9648\n",
      "Epoch 65/3550\n",
      "47/50 [===========================>..] - ETA: 0s - loss: 0.1920 - accuracy: 0.9345\n",
      "Epoch 65: saving model to model/keypoint_classifier\\keypoint_classifier.hdf5\n",
      "50/50 [==============================] - 1s 13ms/step - loss: 0.1912 - accuracy: 0.9345 - val_loss: 0.1348 - val_accuracy: 0.9695\n",
      "Epoch 66/3550\n",
      "48/50 [===========================>..] - ETA: 0s - loss: 0.1943 - accuracy: 0.9310\n",
      "Epoch 66: saving model to model/keypoint_classifier\\keypoint_classifier.hdf5\n",
      "50/50 [==============================] - 1s 14ms/step - loss: 0.1948 - accuracy: 0.9307 - val_loss: 0.1343 - val_accuracy: 0.9615\n",
      "Epoch 67/3550\n",
      "49/50 [============================>.] - ETA: 0s - loss: 0.1979 - accuracy: 0.9314\n",
      "Epoch 67: saving model to model/keypoint_classifier\\keypoint_classifier.hdf5\n",
      "50/50 [==============================] - 1s 14ms/step - loss: 0.1980 - accuracy: 0.9315 - val_loss: 0.1361 - val_accuracy: 0.9705\n",
      "Epoch 68/3550\n",
      "50/50 [==============================] - ETA: 0s - loss: 0.1848 - accuracy: 0.9343\n",
      "Epoch 68: saving model to model/keypoint_classifier\\keypoint_classifier.hdf5\n",
      "50/50 [==============================] - 1s 15ms/step - loss: 0.1848 - accuracy: 0.9343 - val_loss: 0.1308 - val_accuracy: 0.9728\n",
      "Epoch 69/3550\n",
      "46/50 [==========================>...] - ETA: 0s - loss: 0.1806 - accuracy: 0.9375\n",
      "Epoch 69: saving model to model/keypoint_classifier\\keypoint_classifier.hdf5\n",
      "50/50 [==============================] - 1s 15ms/step - loss: 0.1827 - accuracy: 0.9370 - val_loss: 0.1339 - val_accuracy: 0.9719\n",
      "Epoch 70/3550\n",
      "47/50 [===========================>..] - ETA: 0s - loss: 0.1910 - accuracy: 0.9299\n",
      "Epoch 70: saving model to model/keypoint_classifier\\keypoint_classifier.hdf5\n",
      "50/50 [==============================] - 1s 14ms/step - loss: 0.1900 - accuracy: 0.9303 - val_loss: 0.1349 - val_accuracy: 0.9737\n",
      "Epoch 71/3550\n",
      "48/50 [===========================>..] - ETA: 0s - loss: 0.1831 - accuracy: 0.9372\n",
      "Epoch 71: saving model to model/keypoint_classifier\\keypoint_classifier.hdf5\n",
      "50/50 [==============================] - 1s 15ms/step - loss: 0.1843 - accuracy: 0.9370 - val_loss: 0.1330 - val_accuracy: 0.9672\n",
      "Epoch 72/3550\n",
      "48/50 [===========================>..] - ETA: 0s - loss: 0.1753 - accuracy: 0.9375\n",
      "Epoch 72: saving model to model/keypoint_classifier\\keypoint_classifier.hdf5\n",
      "50/50 [==============================] - 1s 15ms/step - loss: 0.1777 - accuracy: 0.9371 - val_loss: 0.1290 - val_accuracy: 0.9714\n",
      "Epoch 73/3550\n",
      "47/50 [===========================>..] - ETA: 0s - loss: 0.1824 - accuracy: 0.9348\n",
      "Epoch 73: saving model to model/keypoint_classifier\\keypoint_classifier.hdf5\n",
      "50/50 [==============================] - 1s 15ms/step - loss: 0.1817 - accuracy: 0.9345 - val_loss: 0.1232 - val_accuracy: 0.9723\n",
      "Epoch 74/3550\n",
      "50/50 [==============================] - ETA: 0s - loss: 0.1786 - accuracy: 0.9362\n",
      "Epoch 74: saving model to model/keypoint_classifier\\keypoint_classifier.hdf5\n",
      "50/50 [==============================] - 1s 15ms/step - loss: 0.1786 - accuracy: 0.9362 - val_loss: 0.1372 - val_accuracy: 0.9676\n",
      "Epoch 75/3550\n",
      "49/50 [============================>.] - ETA: 0s - loss: 0.1778 - accuracy: 0.9356\n",
      "Epoch 75: saving model to model/keypoint_classifier\\keypoint_classifier.hdf5\n",
      "50/50 [==============================] - 1s 14ms/step - loss: 0.1779 - accuracy: 0.9351 - val_loss: 0.1275 - val_accuracy: 0.9737\n",
      "Epoch 76/3550\n",
      "49/50 [============================>.] - ETA: 0s - loss: 0.1781 - accuracy: 0.9354\n",
      "Epoch 76: saving model to model/keypoint_classifier\\keypoint_classifier.hdf5\n",
      "50/50 [==============================] - 1s 14ms/step - loss: 0.1799 - accuracy: 0.9346 - val_loss: 0.1205 - val_accuracy: 0.9775\n",
      "Epoch 77/3550\n",
      "46/50 [==========================>...] - ETA: 0s - loss: 0.1631 - accuracy: 0.9457\n",
      "Epoch 77: saving model to model/keypoint_classifier\\keypoint_classifier.hdf5\n",
      "50/50 [==============================] - 1s 15ms/step - loss: 0.1639 - accuracy: 0.9451 - val_loss: 0.1362 - val_accuracy: 0.9606\n",
      "Epoch 78/3550\n",
      "46/50 [==========================>...] - ETA: 0s - loss: 0.1786 - accuracy: 0.9370\n",
      "Epoch 78: saving model to model/keypoint_classifier\\keypoint_classifier.hdf5\n",
      "50/50 [==============================] - 1s 14ms/step - loss: 0.1753 - accuracy: 0.9379 - val_loss: 0.1149 - val_accuracy: 0.9765\n",
      "Epoch 79/3550\n",
      "47/50 [===========================>..] - ETA: 0s - loss: 0.1567 - accuracy: 0.9446\n",
      "Epoch 79: saving model to model/keypoint_classifier\\keypoint_classifier.hdf5\n",
      "50/50 [==============================] - 1s 14ms/step - loss: 0.1571 - accuracy: 0.9436 - val_loss: 0.1253 - val_accuracy: 0.9761\n",
      "Epoch 80/3550\n",
      "50/50 [==============================] - ETA: 0s - loss: 0.1719 - accuracy: 0.9429\n",
      "Epoch 80: saving model to model/keypoint_classifier\\keypoint_classifier.hdf5\n",
      "50/50 [==============================] - 1s 16ms/step - loss: 0.1719 - accuracy: 0.9429 - val_loss: 0.1187 - val_accuracy: 0.9765\n",
      "Epoch 81/3550\n",
      "48/50 [===========================>..] - ETA: 0s - loss: 0.1586 - accuracy: 0.9466\n",
      "Epoch 81: saving model to model/keypoint_classifier\\keypoint_classifier.hdf5\n",
      "50/50 [==============================] - 1s 15ms/step - loss: 0.1573 - accuracy: 0.9470 - val_loss: 0.1223 - val_accuracy: 0.9686\n",
      "Epoch 82/3550\n",
      "45/50 [==========================>...] - ETA: 0s - loss: 0.1609 - accuracy: 0.9431\n",
      "Epoch 82: saving model to model/keypoint_classifier\\keypoint_classifier.hdf5\n",
      "50/50 [==============================] - 1s 15ms/step - loss: 0.1598 - accuracy: 0.9431 - val_loss: 0.1236 - val_accuracy: 0.9695\n"
     ]
    },
    {
     "name": "stdout",
     "output_type": "stream",
     "text": [
      "Epoch 83/3550\n",
      "49/50 [============================>.] - ETA: 0s - loss: 0.1557 - accuracy: 0.9448\n",
      "Epoch 83: saving model to model/keypoint_classifier\\keypoint_classifier.hdf5\n",
      "50/50 [==============================] - 1s 14ms/step - loss: 0.1561 - accuracy: 0.9445 - val_loss: 0.1224 - val_accuracy: 0.9780\n",
      "Epoch 84/3550\n",
      "49/50 [============================>.] - ETA: 0s - loss: 0.1544 - accuracy: 0.9461\n",
      "Epoch 84: saving model to model/keypoint_classifier\\keypoint_classifier.hdf5\n",
      "50/50 [==============================] - 1s 14ms/step - loss: 0.1543 - accuracy: 0.9457 - val_loss: 0.1095 - val_accuracy: 0.9756\n",
      "Epoch 85/3550\n",
      "47/50 [===========================>..] - ETA: 0s - loss: 0.1573 - accuracy: 0.9476\n",
      "Epoch 85: saving model to model/keypoint_classifier\\keypoint_classifier.hdf5\n",
      "50/50 [==============================] - 1s 14ms/step - loss: 0.1566 - accuracy: 0.9479 - val_loss: 0.1179 - val_accuracy: 0.9775\n",
      "Epoch 86/3550\n",
      "46/50 [==========================>...] - ETA: 0s - loss: 0.1359 - accuracy: 0.9501\n",
      "Epoch 86: saving model to model/keypoint_classifier\\keypoint_classifier.hdf5\n",
      "50/50 [==============================] - 1s 14ms/step - loss: 0.1347 - accuracy: 0.9514 - val_loss: 0.1098 - val_accuracy: 0.9808\n",
      "Epoch 87/3550\n",
      "47/50 [===========================>..] - ETA: 0s - loss: 0.1464 - accuracy: 0.9485\n",
      "Epoch 87: saving model to model/keypoint_classifier\\keypoint_classifier.hdf5\n",
      "50/50 [==============================] - 1s 14ms/step - loss: 0.1468 - accuracy: 0.9484 - val_loss: 0.1140 - val_accuracy: 0.9803\n",
      "Epoch 88/3550\n",
      "50/50 [==============================] - ETA: 0s - loss: 0.1516 - accuracy: 0.9492\n",
      "Epoch 88: saving model to model/keypoint_classifier\\keypoint_classifier.hdf5\n",
      "50/50 [==============================] - 1s 14ms/step - loss: 0.1516 - accuracy: 0.9492 - val_loss: 0.1067 - val_accuracy: 0.9808\n",
      "Epoch 89/3550\n",
      "49/50 [============================>.] - ETA: 0s - loss: 0.1449 - accuracy: 0.9514\n",
      "Epoch 89: saving model to model/keypoint_classifier\\keypoint_classifier.hdf5\n",
      "50/50 [==============================] - 1s 15ms/step - loss: 0.1438 - accuracy: 0.9520 - val_loss: 0.1057 - val_accuracy: 0.9817\n",
      "Epoch 90/3550\n",
      "47/50 [===========================>..] - ETA: 0s - loss: 0.1461 - accuracy: 0.9461\n",
      "Epoch 90: saving model to model/keypoint_classifier\\keypoint_classifier.hdf5\n",
      "50/50 [==============================] - 1s 14ms/step - loss: 0.1474 - accuracy: 0.9456 - val_loss: 0.1062 - val_accuracy: 0.9822\n",
      "Epoch 91/3550\n",
      "48/50 [===========================>..] - ETA: 0s - loss: 0.1355 - accuracy: 0.9556\n",
      "Epoch 91: saving model to model/keypoint_classifier\\keypoint_classifier.hdf5\n",
      "50/50 [==============================] - 1s 14ms/step - loss: 0.1347 - accuracy: 0.9558 - val_loss: 0.1048 - val_accuracy: 0.9822\n",
      "Epoch 92/3550\n",
      "47/50 [===========================>..] - ETA: 0s - loss: 0.1460 - accuracy: 0.9530\n",
      "Epoch 92: saving model to model/keypoint_classifier\\keypoint_classifier.hdf5\n",
      "50/50 [==============================] - 1s 14ms/step - loss: 0.1440 - accuracy: 0.9533 - val_loss: 0.1041 - val_accuracy: 0.9836\n",
      "Epoch 93/3550\n",
      "46/50 [==========================>...] - ETA: 0s - loss: 0.1371 - accuracy: 0.9552\n",
      "Epoch 93: saving model to model/keypoint_classifier\\keypoint_classifier.hdf5\n",
      "50/50 [==============================] - 1s 14ms/step - loss: 0.1376 - accuracy: 0.9554 - val_loss: 0.1011 - val_accuracy: 0.9798\n",
      "Epoch 94/3550\n",
      "46/50 [==========================>...] - ETA: 0s - loss: 0.1277 - accuracy: 0.9596\n",
      "Epoch 94: saving model to model/keypoint_classifier\\keypoint_classifier.hdf5\n",
      "50/50 [==============================] - 1s 14ms/step - loss: 0.1301 - accuracy: 0.9584 - val_loss: 0.1077 - val_accuracy: 0.9826\n",
      "Epoch 95/3550\n",
      "48/50 [===========================>..] - ETA: 0s - loss: 0.1368 - accuracy: 0.9528\n",
      "Epoch 95: saving model to model/keypoint_classifier\\keypoint_classifier.hdf5\n",
      "50/50 [==============================] - 1s 14ms/step - loss: 0.1400 - accuracy: 0.9517 - val_loss: 0.0994 - val_accuracy: 0.9812\n",
      "Epoch 96/3550\n",
      "49/50 [============================>.] - ETA: 0s - loss: 0.1333 - accuracy: 0.9558\n",
      "Epoch 96: saving model to model/keypoint_classifier\\keypoint_classifier.hdf5\n",
      "50/50 [==============================] - 1s 14ms/step - loss: 0.1332 - accuracy: 0.9561 - val_loss: 0.1091 - val_accuracy: 0.9812\n",
      "Epoch 97/3550\n",
      "48/50 [===========================>..] - ETA: 0s - loss: 0.1318 - accuracy: 0.9539\n",
      "Epoch 97: saving model to model/keypoint_classifier\\keypoint_classifier.hdf5\n",
      "50/50 [==============================] - 1s 14ms/step - loss: 0.1311 - accuracy: 0.9540 - val_loss: 0.1006 - val_accuracy: 0.9826\n",
      "Epoch 98/3550\n",
      "50/50 [==============================] - ETA: 0s - loss: 0.1244 - accuracy: 0.9570\n",
      "Epoch 98: saving model to model/keypoint_classifier\\keypoint_classifier.hdf5\n",
      "50/50 [==============================] - 1s 15ms/step - loss: 0.1244 - accuracy: 0.9570 - val_loss: 0.1012 - val_accuracy: 0.9841\n",
      "Epoch 99/3550\n",
      "48/50 [===========================>..] - ETA: 0s - loss: 0.1226 - accuracy: 0.9613\n",
      "Epoch 99: saving model to model/keypoint_classifier\\keypoint_classifier.hdf5\n",
      "50/50 [==============================] - 1s 15ms/step - loss: 0.1221 - accuracy: 0.9611 - val_loss: 0.0961 - val_accuracy: 0.9841\n",
      "Epoch 100/3550\n",
      "45/50 [==========================>...] - ETA: 0s - loss: 0.1262 - accuracy: 0.9573\n",
      "Epoch 100: saving model to model/keypoint_classifier\\keypoint_classifier.hdf5\n",
      "50/50 [==============================] - 1s 13ms/step - loss: 0.1285 - accuracy: 0.9575 - val_loss: 0.0907 - val_accuracy: 0.9859\n",
      "Epoch 101/3550\n",
      "49/50 [============================>.] - ETA: 0s - loss: 0.1213 - accuracy: 0.9589\n",
      "Epoch 101: saving model to model/keypoint_classifier\\keypoint_classifier.hdf5\n",
      "50/50 [==============================] - 1s 14ms/step - loss: 0.1205 - accuracy: 0.9592 - val_loss: 0.1000 - val_accuracy: 0.9808\n",
      "Epoch 102/3550\n",
      "48/50 [===========================>..] - ETA: 0s - loss: 0.1210 - accuracy: 0.9587\n",
      "Epoch 102: saving model to model/keypoint_classifier\\keypoint_classifier.hdf5\n",
      "50/50 [==============================] - 1s 14ms/step - loss: 0.1203 - accuracy: 0.9586 - val_loss: 0.0956 - val_accuracy: 0.9841\n",
      "Epoch 103/3550\n",
      "47/50 [===========================>..] - ETA: 0s - loss: 0.1319 - accuracy: 0.9560\n",
      "Epoch 103: saving model to model/keypoint_classifier\\keypoint_classifier.hdf5\n",
      "50/50 [==============================] - 1s 14ms/step - loss: 0.1318 - accuracy: 0.9568 - val_loss: 0.0985 - val_accuracy: 0.9831\n",
      "Epoch 104/3550\n",
      "46/50 [==========================>...] - ETA: 0s - loss: 0.1222 - accuracy: 0.9572\n",
      "Epoch 104: saving model to model/keypoint_classifier\\keypoint_classifier.hdf5\n",
      "50/50 [==============================] - 1s 14ms/step - loss: 0.1217 - accuracy: 0.9576 - val_loss: 0.1016 - val_accuracy: 0.9826\n",
      "Epoch 105/3550\n",
      "50/50 [==============================] - ETA: 0s - loss: 0.1148 - accuracy: 0.9620\n",
      "Epoch 105: saving model to model/keypoint_classifier\\keypoint_classifier.hdf5\n",
      "50/50 [==============================] - 1s 14ms/step - loss: 0.1148 - accuracy: 0.9620 - val_loss: 0.0914 - val_accuracy: 0.9850\n",
      "Epoch 106/3550\n",
      "48/50 [===========================>..] - ETA: 0s - loss: 0.1133 - accuracy: 0.9627\n",
      "Epoch 106: saving model to model/keypoint_classifier\\keypoint_classifier.hdf5\n",
      "50/50 [==============================] - 1s 14ms/step - loss: 0.1126 - accuracy: 0.9626 - val_loss: 0.0935 - val_accuracy: 0.9836\n",
      "Epoch 107/3550\n",
      "48/50 [===========================>..] - ETA: 0s - loss: 0.1006 - accuracy: 0.9655\n",
      "Epoch 107: saving model to model/keypoint_classifier\\keypoint_classifier.hdf5\n",
      "50/50 [==============================] - 1s 14ms/step - loss: 0.1031 - accuracy: 0.9647 - val_loss: 0.0902 - val_accuracy: 0.9859\n",
      "Epoch 108/3550\n",
      "50/50 [==============================] - ETA: 0s - loss: 0.1102 - accuracy: 0.9662\n",
      "Epoch 108: saving model to model/keypoint_classifier\\keypoint_classifier.hdf5\n",
      "50/50 [==============================] - 1s 14ms/step - loss: 0.1102 - accuracy: 0.9662 - val_loss: 0.0940 - val_accuracy: 0.9831\n",
      "Epoch 109/3550\n",
      "45/50 [==========================>...] - ETA: 0s - loss: 0.1116 - accuracy: 0.9622\n",
      "Epoch 109: saving model to model/keypoint_classifier\\keypoint_classifier.hdf5\n",
      "50/50 [==============================] - 1s 14ms/step - loss: 0.1124 - accuracy: 0.9611 - val_loss: 0.0970 - val_accuracy: 0.9845\n"
     ]
    },
    {
     "name": "stdout",
     "output_type": "stream",
     "text": [
      "Epoch 110/3550\n",
      "49/50 [============================>.] - ETA: 0s - loss: 0.1191 - accuracy: 0.9611\n",
      "Epoch 110: saving model to model/keypoint_classifier\\keypoint_classifier.hdf5\n",
      "50/50 [==============================] - 1s 14ms/step - loss: 0.1183 - accuracy: 0.9611 - val_loss: 0.0892 - val_accuracy: 0.9845\n",
      "Epoch 111/3550\n",
      "47/50 [===========================>..] - ETA: 0s - loss: 0.1042 - accuracy: 0.9664\n",
      "Epoch 111: saving model to model/keypoint_classifier\\keypoint_classifier.hdf5\n",
      "50/50 [==============================] - 1s 14ms/step - loss: 0.1048 - accuracy: 0.9658 - val_loss: 0.0943 - val_accuracy: 0.9836\n",
      "Epoch 112/3550\n",
      "49/50 [============================>.] - ETA: 0s - loss: 0.1025 - accuracy: 0.9664\n",
      "Epoch 112: saving model to model/keypoint_classifier\\keypoint_classifier.hdf5\n",
      "50/50 [==============================] - 1s 14ms/step - loss: 0.1024 - accuracy: 0.9662 - val_loss: 0.0920 - val_accuracy: 0.9831\n",
      "Epoch 113/3550\n",
      "48/50 [===========================>..] - ETA: 0s - loss: 0.1060 - accuracy: 0.9650\n",
      "Epoch 113: saving model to model/keypoint_classifier\\keypoint_classifier.hdf5\n",
      "50/50 [==============================] - 1s 14ms/step - loss: 0.1061 - accuracy: 0.9648 - val_loss: 0.0912 - val_accuracy: 0.9822\n",
      "Epoch 114/3550\n",
      "47/50 [===========================>..] - ETA: 0s - loss: 0.0961 - accuracy: 0.9689\n",
      "Epoch 114: saving model to model/keypoint_classifier\\keypoint_classifier.hdf5\n",
      "50/50 [==============================] - 1s 14ms/step - loss: 0.0963 - accuracy: 0.9690 - val_loss: 0.0848 - val_accuracy: 0.9873\n",
      "Epoch 115/3550\n",
      "48/50 [===========================>..] - ETA: 0s - loss: 0.0954 - accuracy: 0.9691\n",
      "Epoch 115: saving model to model/keypoint_classifier\\keypoint_classifier.hdf5\n",
      "50/50 [==============================] - 1s 14ms/step - loss: 0.0959 - accuracy: 0.9692 - val_loss: 0.0920 - val_accuracy: 0.9831\n",
      "Epoch 116/3550\n",
      "50/50 [==============================] - ETA: 0s - loss: 0.1041 - accuracy: 0.9670\n",
      "Epoch 116: saving model to model/keypoint_classifier\\keypoint_classifier.hdf5\n",
      "50/50 [==============================] - 1s 14ms/step - loss: 0.1041 - accuracy: 0.9670 - val_loss: 0.0918 - val_accuracy: 0.9822\n",
      "Epoch 117/3550\n",
      "46/50 [==========================>...] - ETA: 0s - loss: 0.1041 - accuracy: 0.9650\n",
      "Epoch 117: saving model to model/keypoint_classifier\\keypoint_classifier.hdf5\n",
      "50/50 [==============================] - 1s 15ms/step - loss: 0.1045 - accuracy: 0.9647 - val_loss: 0.0861 - val_accuracy: 0.9855\n",
      "Epoch 118/3550\n",
      "49/50 [============================>.] - ETA: 0s - loss: 0.1090 - accuracy: 0.9662\n",
      "Epoch 118: saving model to model/keypoint_classifier\\keypoint_classifier.hdf5\n",
      "50/50 [==============================] - 1s 14ms/step - loss: 0.1084 - accuracy: 0.9662 - val_loss: 0.0836 - val_accuracy: 0.9873\n",
      "Epoch 119/3550\n",
      "50/50 [==============================] - ETA: 0s - loss: 0.1040 - accuracy: 0.9679\n",
      "Epoch 119: saving model to model/keypoint_classifier\\keypoint_classifier.hdf5\n",
      "50/50 [==============================] - 1s 14ms/step - loss: 0.1040 - accuracy: 0.9679 - val_loss: 0.0815 - val_accuracy: 0.9864\n",
      "Epoch 120/3550\n",
      "49/50 [============================>.] - ETA: 0s - loss: 0.1005 - accuracy: 0.9680\n",
      "Epoch 120: saving model to model/keypoint_classifier\\keypoint_classifier.hdf5\n",
      "50/50 [==============================] - 1s 15ms/step - loss: 0.1006 - accuracy: 0.9678 - val_loss: 0.0828 - val_accuracy: 0.9855\n",
      "Epoch 121/3550\n",
      "48/50 [===========================>..] - ETA: 0s - loss: 0.0974 - accuracy: 0.9681\n",
      "Epoch 121: saving model to model/keypoint_classifier\\keypoint_classifier.hdf5\n",
      "50/50 [==============================] - 1s 14ms/step - loss: 0.0979 - accuracy: 0.9679 - val_loss: 0.0812 - val_accuracy: 0.9859\n",
      "Epoch 122/3550\n",
      "47/50 [===========================>..] - ETA: 0s - loss: 0.0958 - accuracy: 0.9689\n",
      "Epoch 122: saving model to model/keypoint_classifier\\keypoint_classifier.hdf5\n",
      "50/50 [==============================] - 1s 14ms/step - loss: 0.0962 - accuracy: 0.9686 - val_loss: 0.0857 - val_accuracy: 0.9855\n",
      "Epoch 123/3550\n",
      "46/50 [==========================>...] - ETA: 0s - loss: 0.0936 - accuracy: 0.9669\n",
      "Epoch 123: saving model to model/keypoint_classifier\\keypoint_classifier.hdf5\n",
      "50/50 [==============================] - 1s 14ms/step - loss: 0.0951 - accuracy: 0.9665 - val_loss: 0.0888 - val_accuracy: 0.9864\n",
      "Epoch 124/3550\n",
      "47/50 [===========================>..] - ETA: 0s - loss: 0.1017 - accuracy: 0.9666\n",
      "Epoch 124: saving model to model/keypoint_classifier\\keypoint_classifier.hdf5\n",
      "50/50 [==============================] - 1s 14ms/step - loss: 0.1010 - accuracy: 0.9667 - val_loss: 0.0843 - val_accuracy: 0.9845\n",
      "Epoch 125/3550\n",
      "48/50 [===========================>..] - ETA: 0s - loss: 0.0906 - accuracy: 0.9689\n",
      "Epoch 125: saving model to model/keypoint_classifier\\keypoint_classifier.hdf5\n",
      "50/50 [==============================] - 1s 14ms/step - loss: 0.0905 - accuracy: 0.9687 - val_loss: 0.0781 - val_accuracy: 0.9887\n",
      "Epoch 126/3550\n",
      "47/50 [===========================>..] - ETA: 0s - loss: 0.0993 - accuracy: 0.9686\n",
      "Epoch 126: saving model to model/keypoint_classifier\\keypoint_classifier.hdf5\n",
      "50/50 [==============================] - 1s 15ms/step - loss: 0.0983 - accuracy: 0.9689 - val_loss: 0.0800 - val_accuracy: 0.9878\n",
      "Epoch 127/3550\n",
      "47/50 [===========================>..] - ETA: 0s - loss: 0.0994 - accuracy: 0.9692\n",
      "Epoch 127: saving model to model/keypoint_classifier\\keypoint_classifier.hdf5\n",
      "50/50 [==============================] - 1s 14ms/step - loss: 0.1003 - accuracy: 0.9689 - val_loss: 0.0779 - val_accuracy: 0.9859\n",
      "Epoch 128/3550\n",
      "47/50 [===========================>..] - ETA: 0s - loss: 0.0845 - accuracy: 0.9736\n",
      "Epoch 128: saving model to model/keypoint_classifier\\keypoint_classifier.hdf5\n",
      "50/50 [==============================] - 1s 14ms/step - loss: 0.0853 - accuracy: 0.9736 - val_loss: 0.0836 - val_accuracy: 0.9845\n",
      "Epoch 129/3550\n",
      "48/50 [===========================>..] - ETA: 0s - loss: 0.0864 - accuracy: 0.9718\n",
      "Epoch 129: saving model to model/keypoint_classifier\\keypoint_classifier.hdf5\n",
      "50/50 [==============================] - 1s 14ms/step - loss: 0.0865 - accuracy: 0.9715 - val_loss: 0.0843 - val_accuracy: 0.9859\n",
      "Epoch 130/3550\n",
      "46/50 [==========================>...] - ETA: 0s - loss: 0.0922 - accuracy: 0.9693\n",
      "Epoch 130: saving model to model/keypoint_classifier\\keypoint_classifier.hdf5\n",
      "50/50 [==============================] - 1s 14ms/step - loss: 0.0906 - accuracy: 0.9701 - val_loss: 0.0821 - val_accuracy: 0.9873\n",
      "Epoch 131/3550\n",
      "50/50 [==============================] - ETA: 0s - loss: 0.0853 - accuracy: 0.9709\n",
      "Epoch 131: saving model to model/keypoint_classifier\\keypoint_classifier.hdf5\n",
      "50/50 [==============================] - 1s 14ms/step - loss: 0.0853 - accuracy: 0.9709 - val_loss: 0.0781 - val_accuracy: 0.9873\n",
      "Epoch 132/3550\n",
      "48/50 [===========================>..] - ETA: 0s - loss: 0.0863 - accuracy: 0.9731\n",
      "Epoch 132: saving model to model/keypoint_classifier\\keypoint_classifier.hdf5\n",
      "50/50 [==============================] - 1s 14ms/step - loss: 0.0863 - accuracy: 0.9730 - val_loss: 0.0801 - val_accuracy: 0.9902\n",
      "Epoch 133/3550\n",
      "45/50 [==========================>...] - ETA: 0s - loss: 0.0864 - accuracy: 0.9705\n",
      "Epoch 133: saving model to model/keypoint_classifier\\keypoint_classifier.hdf5\n",
      "50/50 [==============================] - 1s 15ms/step - loss: 0.0872 - accuracy: 0.9703 - val_loss: 0.0807 - val_accuracy: 0.9883\n",
      "Epoch 134/3550\n",
      "47/50 [===========================>..] - ETA: 0s - loss: 0.0909 - accuracy: 0.9722\n",
      "Epoch 134: saving model to model/keypoint_classifier\\keypoint_classifier.hdf5\n",
      "50/50 [==============================] - 1s 15ms/step - loss: 0.0900 - accuracy: 0.9726 - val_loss: 0.0805 - val_accuracy: 0.9887\n",
      "Epoch 135/3550\n",
      "47/50 [===========================>..] - ETA: 0s - loss: 0.0804 - accuracy: 0.9739\n",
      "Epoch 135: saving model to model/keypoint_classifier\\keypoint_classifier.hdf5\n",
      "50/50 [==============================] - 1s 15ms/step - loss: 0.0805 - accuracy: 0.9734 - val_loss: 0.0860 - val_accuracy: 0.9850\n",
      "Epoch 136/3550\n",
      "45/50 [==========================>...] - ETA: 0s - loss: 0.0851 - accuracy: 0.9722\n",
      "Epoch 136: saving model to model/keypoint_classifier\\keypoint_classifier.hdf5\n",
      "50/50 [==============================] - 1s 14ms/step - loss: 0.0840 - accuracy: 0.9728 - val_loss: 0.0816 - val_accuracy: 0.9878\n"
     ]
    },
    {
     "name": "stdout",
     "output_type": "stream",
     "text": [
      "Epoch 137/3550\n",
      "48/50 [===========================>..] - ETA: 0s - loss: 0.0940 - accuracy: 0.9694\n",
      "Epoch 137: saving model to model/keypoint_classifier\\keypoint_classifier.hdf5\n",
      "50/50 [==============================] - 1s 14ms/step - loss: 0.0926 - accuracy: 0.9698 - val_loss: 0.0863 - val_accuracy: 0.9878\n",
      "Epoch 138/3550\n",
      "48/50 [===========================>..] - ETA: 0s - loss: 0.0941 - accuracy: 0.9701\n",
      "Epoch 138: saving model to model/keypoint_classifier\\keypoint_classifier.hdf5\n",
      "50/50 [==============================] - 1s 15ms/step - loss: 0.0930 - accuracy: 0.9703 - val_loss: 0.0866 - val_accuracy: 0.9878\n",
      "Epoch 139/3550\n",
      "48/50 [===========================>..] - ETA: 0s - loss: 0.0799 - accuracy: 0.9743\n",
      "Epoch 139: saving model to model/keypoint_classifier\\keypoint_classifier.hdf5\n",
      "50/50 [==============================] - 1s 14ms/step - loss: 0.0805 - accuracy: 0.9739 - val_loss: 0.0777 - val_accuracy: 0.9897\n",
      "Epoch 140/3550\n",
      "47/50 [===========================>..] - ETA: 0s - loss: 0.0771 - accuracy: 0.9756\n",
      "Epoch 140: saving model to model/keypoint_classifier\\keypoint_classifier.hdf5\n",
      "50/50 [==============================] - 1s 14ms/step - loss: 0.0774 - accuracy: 0.9756 - val_loss: 0.0821 - val_accuracy: 0.9906\n",
      "Epoch 141/3550\n",
      "45/50 [==========================>...] - ETA: 0s - loss: 0.0760 - accuracy: 0.9755\n",
      "Epoch 141: saving model to model/keypoint_classifier\\keypoint_classifier.hdf5\n",
      "50/50 [==============================] - 1s 14ms/step - loss: 0.0760 - accuracy: 0.9759 - val_loss: 0.0776 - val_accuracy: 0.9883\n",
      "Epoch 142/3550\n",
      "47/50 [===========================>..] - ETA: 0s - loss: 0.0734 - accuracy: 0.9762\n",
      "Epoch 142: saving model to model/keypoint_classifier\\keypoint_classifier.hdf5\n",
      "50/50 [==============================] - 1s 15ms/step - loss: 0.0739 - accuracy: 0.9759 - val_loss: 0.0790 - val_accuracy: 0.9892\n",
      "Epoch 143/3550\n",
      "47/50 [===========================>..] - ETA: 0s - loss: 0.0790 - accuracy: 0.9754\n",
      "Epoch 143: saving model to model/keypoint_classifier\\keypoint_classifier.hdf5\n",
      "50/50 [==============================] - 1s 14ms/step - loss: 0.0797 - accuracy: 0.9750 - val_loss: 0.0794 - val_accuracy: 0.9883\n",
      "Epoch 144/3550\n",
      "46/50 [==========================>...] - ETA: 0s - loss: 0.0872 - accuracy: 0.9715\n",
      "Epoch 144: saving model to model/keypoint_classifier\\keypoint_classifier.hdf5\n",
      "50/50 [==============================] - 1s 14ms/step - loss: 0.0886 - accuracy: 0.9715 - val_loss: 0.0921 - val_accuracy: 0.9864\n",
      "Epoch 145/3550\n",
      "48/50 [===========================>..] - ETA: 0s - loss: 0.0841 - accuracy: 0.9717\n",
      "Epoch 145: saving model to model/keypoint_classifier\\keypoint_classifier.hdf5\n",
      "50/50 [==============================] - 1s 14ms/step - loss: 0.0844 - accuracy: 0.9717 - val_loss: 0.0776 - val_accuracy: 0.9892\n",
      "Epoch 146/3550\n",
      "47/50 [===========================>..] - ETA: 0s - loss: 0.0765 - accuracy: 0.9771\n",
      "Epoch 146: saving model to model/keypoint_classifier\\keypoint_classifier.hdf5\n",
      "50/50 [==============================] - 1s 14ms/step - loss: 0.0778 - accuracy: 0.9769 - val_loss: 0.0755 - val_accuracy: 0.9878\n",
      "Epoch 147/3550\n",
      "47/50 [===========================>..] - ETA: 0s - loss: 0.0828 - accuracy: 0.9714\n",
      "Epoch 147: saving model to model/keypoint_classifier\\keypoint_classifier.hdf5\n",
      "50/50 [==============================] - 1s 14ms/step - loss: 0.0836 - accuracy: 0.9712 - val_loss: 0.0751 - val_accuracy: 0.9892\n",
      "Epoch 148/3550\n",
      "48/50 [===========================>..] - ETA: 0s - loss: 0.0753 - accuracy: 0.9759\n",
      "Epoch 148: saving model to model/keypoint_classifier\\keypoint_classifier.hdf5\n",
      "50/50 [==============================] - 1s 14ms/step - loss: 0.0773 - accuracy: 0.9755 - val_loss: 0.0758 - val_accuracy: 0.9902\n",
      "Epoch 149/3550\n",
      "46/50 [==========================>...] - ETA: 0s - loss: 0.0660 - accuracy: 0.9774\n",
      "Epoch 149: saving model to model/keypoint_classifier\\keypoint_classifier.hdf5\n",
      "50/50 [==============================] - 1s 14ms/step - loss: 0.0675 - accuracy: 0.9765 - val_loss: 0.0710 - val_accuracy: 0.9892\n",
      "Epoch 150/3550\n",
      "49/50 [============================>.] - ETA: 0s - loss: 0.0747 - accuracy: 0.9766\n",
      "Epoch 150: saving model to model/keypoint_classifier\\keypoint_classifier.hdf5\n",
      "50/50 [==============================] - 1s 14ms/step - loss: 0.0753 - accuracy: 0.9764 - val_loss: 0.0727 - val_accuracy: 0.9911\n",
      "Epoch 151/3550\n",
      "48/50 [===========================>..] - ETA: 0s - loss: 0.0708 - accuracy: 0.9801\n",
      "Epoch 151: saving model to model/keypoint_classifier\\keypoint_classifier.hdf5\n",
      "50/50 [==============================] - 1s 14ms/step - loss: 0.0725 - accuracy: 0.9795 - val_loss: 0.0697 - val_accuracy: 0.9911\n",
      "Epoch 152/3550\n",
      "48/50 [===========================>..] - ETA: 0s - loss: 0.0773 - accuracy: 0.9741\n",
      "Epoch 152: saving model to model/keypoint_classifier\\keypoint_classifier.hdf5\n",
      "50/50 [==============================] - 1s 14ms/step - loss: 0.0788 - accuracy: 0.9739 - val_loss: 0.0793 - val_accuracy: 0.9892\n",
      "Epoch 153/3550\n",
      "47/50 [===========================>..] - ETA: 0s - loss: 0.0668 - accuracy: 0.9764\n",
      "Epoch 153: saving model to model/keypoint_classifier\\keypoint_classifier.hdf5\n",
      "50/50 [==============================] - 1s 14ms/step - loss: 0.0681 - accuracy: 0.9759 - val_loss: 0.0720 - val_accuracy: 0.9883\n",
      "Epoch 154/3550\n",
      "47/50 [===========================>..] - ETA: 0s - loss: 0.0773 - accuracy: 0.9754\n",
      "Epoch 154: saving model to model/keypoint_classifier\\keypoint_classifier.hdf5\n",
      "50/50 [==============================] - 1s 14ms/step - loss: 0.0763 - accuracy: 0.9755 - val_loss: 0.0809 - val_accuracy: 0.9887\n",
      "Epoch 155/3550\n",
      "46/50 [==========================>...] - ETA: 0s - loss: 0.0733 - accuracy: 0.9755\n",
      "Epoch 155: saving model to model/keypoint_classifier\\keypoint_classifier.hdf5\n",
      "50/50 [==============================] - 1s 14ms/step - loss: 0.0740 - accuracy: 0.9755 - val_loss: 0.0785 - val_accuracy: 0.9883\n",
      "Epoch 156/3550\n",
      "50/50 [==============================] - ETA: 0s - loss: 0.0705 - accuracy: 0.9759\n",
      "Epoch 156: saving model to model/keypoint_classifier\\keypoint_classifier.hdf5\n",
      "50/50 [==============================] - 1s 14ms/step - loss: 0.0705 - accuracy: 0.9759 - val_loss: 0.0728 - val_accuracy: 0.9897\n",
      "Epoch 157/3550\n",
      "50/50 [==============================] - ETA: 0s - loss: 0.0731 - accuracy: 0.9767\n",
      "Epoch 157: saving model to model/keypoint_classifier\\keypoint_classifier.hdf5\n",
      "50/50 [==============================] - 1s 14ms/step - loss: 0.0731 - accuracy: 0.9767 - val_loss: 0.0724 - val_accuracy: 0.9916\n",
      "Epoch 158/3550\n",
      "47/50 [===========================>..] - ETA: 0s - loss: 0.0673 - accuracy: 0.9789\n",
      "Epoch 158: saving model to model/keypoint_classifier\\keypoint_classifier.hdf5\n",
      "50/50 [==============================] - 1s 14ms/step - loss: 0.0699 - accuracy: 0.9780 - val_loss: 0.0796 - val_accuracy: 0.9902\n",
      "Epoch 159/3550\n",
      "46/50 [==========================>...] - ETA: 0s - loss: 0.0685 - accuracy: 0.9769\n",
      "Epoch 159: saving model to model/keypoint_classifier\\keypoint_classifier.hdf5\n",
      "50/50 [==============================] - 1s 14ms/step - loss: 0.0681 - accuracy: 0.9772 - val_loss: 0.0766 - val_accuracy: 0.9906\n",
      "Epoch 160/3550\n",
      "45/50 [==========================>...] - ETA: 0s - loss: 0.0597 - accuracy: 0.9800\n",
      "Epoch 160: saving model to model/keypoint_classifier\\keypoint_classifier.hdf5\n",
      "50/50 [==============================] - 1s 14ms/step - loss: 0.0583 - accuracy: 0.9808 - val_loss: 0.0732 - val_accuracy: 0.9906\n",
      "Epoch 161/3550\n",
      "47/50 [===========================>..] - ETA: 0s - loss: 0.0772 - accuracy: 0.9756\n",
      "Epoch 161: saving model to model/keypoint_classifier\\keypoint_classifier.hdf5\n",
      "50/50 [==============================] - 1s 14ms/step - loss: 0.0785 - accuracy: 0.9748 - val_loss: 0.0725 - val_accuracy: 0.9902\n",
      "Epoch 162/3550\n",
      "45/50 [==========================>...] - ETA: 0s - loss: 0.0708 - accuracy: 0.9776\n",
      "Epoch 162: saving model to model/keypoint_classifier\\keypoint_classifier.hdf5\n",
      "50/50 [==============================] - 1s 14ms/step - loss: 0.0716 - accuracy: 0.9767 - val_loss: 0.0702 - val_accuracy: 0.9916\n",
      "Epoch 163/3550\n",
      "46/50 [==========================>...] - ETA: 0s - loss: 0.0699 - accuracy: 0.9759\n",
      "Epoch 163: saving model to model/keypoint_classifier\\keypoint_classifier.hdf5\n",
      "50/50 [==============================] - 1s 14ms/step - loss: 0.0703 - accuracy: 0.9761 - val_loss: 0.0744 - val_accuracy: 0.9897\n"
     ]
    },
    {
     "name": "stdout",
     "output_type": "stream",
     "text": [
      "Epoch 164/3550\n",
      "47/50 [===========================>..] - ETA: 0s - loss: 0.0625 - accuracy: 0.9794\n",
      "Epoch 164: saving model to model/keypoint_classifier\\keypoint_classifier.hdf5\n",
      "50/50 [==============================] - 1s 14ms/step - loss: 0.0608 - accuracy: 0.9795 - val_loss: 0.0807 - val_accuracy: 0.9897\n",
      "Epoch 165/3550\n",
      "49/50 [============================>.] - ETA: 0s - loss: 0.0660 - accuracy: 0.9780\n",
      "Epoch 165: saving model to model/keypoint_classifier\\keypoint_classifier.hdf5\n",
      "50/50 [==============================] - 1s 14ms/step - loss: 0.0659 - accuracy: 0.9781 - val_loss: 0.0805 - val_accuracy: 0.9883\n",
      "Epoch 166/3550\n",
      "48/50 [===========================>..] - ETA: 0s - loss: 0.0705 - accuracy: 0.9762\n",
      "Epoch 166: saving model to model/keypoint_classifier\\keypoint_classifier.hdf5\n",
      "50/50 [==============================] - 1s 14ms/step - loss: 0.0697 - accuracy: 0.9765 - val_loss: 0.0747 - val_accuracy: 0.9897\n",
      "Epoch 167/3550\n",
      "46/50 [==========================>...] - ETA: 0s - loss: 0.0743 - accuracy: 0.9754\n",
      "Epoch 167: saving model to model/keypoint_classifier\\keypoint_classifier.hdf5\n",
      "50/50 [==============================] - 1s 14ms/step - loss: 0.0718 - accuracy: 0.9761 - val_loss: 0.0744 - val_accuracy: 0.9892\n",
      "Epoch 168/3550\n",
      "46/50 [==========================>...] - ETA: 0s - loss: 0.0782 - accuracy: 0.9747\n",
      "Epoch 168: saving model to model/keypoint_classifier\\keypoint_classifier.hdf5\n",
      "50/50 [==============================] - 1s 14ms/step - loss: 0.0768 - accuracy: 0.9750 - val_loss: 0.0852 - val_accuracy: 0.9883\n",
      "Epoch 169/3550\n",
      "47/50 [===========================>..] - ETA: 0s - loss: 0.0665 - accuracy: 0.9804\n",
      "Epoch 169: saving model to model/keypoint_classifier\\keypoint_classifier.hdf5\n",
      "50/50 [==============================] - 1s 15ms/step - loss: 0.0670 - accuracy: 0.9801 - val_loss: 0.0760 - val_accuracy: 0.9892\n",
      "Epoch 170/3550\n",
      "45/50 [==========================>...] - ETA: 0s - loss: 0.0551 - accuracy: 0.9849\n",
      "Epoch 170: saving model to model/keypoint_classifier\\keypoint_classifier.hdf5\n",
      "50/50 [==============================] - 1s 14ms/step - loss: 0.0576 - accuracy: 0.9831 - val_loss: 0.0732 - val_accuracy: 0.9902\n",
      "Epoch 171/3550\n",
      "45/50 [==========================>...] - ETA: 0s - loss: 0.0686 - accuracy: 0.9767\n",
      "Epoch 171: saving model to model/keypoint_classifier\\keypoint_classifier.hdf5\n",
      "50/50 [==============================] - 1s 14ms/step - loss: 0.0689 - accuracy: 0.9772 - val_loss: 0.0770 - val_accuracy: 0.9902\n",
      "Epoch 171: early stopping\n"
     ]
    },
    {
     "data": {
      "text/plain": [
       "<keras.src.callbacks.History at 0x287cb666be0>"
      ]
     },
     "execution_count": 38,
     "metadata": {},
     "output_type": "execute_result"
    }
   ],
   "source": [
    "model.fit(\n",
    "    X_train,\n",
    "    y_train,\n",
    "    epochs=50*NUM_CLASSES,\n",
    "    batch_size=128,\n",
    "    validation_data=(X_test, y_test),\n",
    "    callbacks=[cp_callback, es_callback]\n",
    ")"
   ]
  },
  {
   "cell_type": "code",
   "execution_count": 39,
   "metadata": {
    "colab": {
     "base_uri": "https://localhost:8080/"
    },
    "id": "pxvb2Y299hE3",
    "outputId": "59eb3185-2e37-4b9e-bc9d-ab1b8ac29b7f"
   },
   "outputs": [
    {
     "name": "stdout",
     "output_type": "stream",
     "text": [
      "17/17 [==============================] - 0s 5ms/step - loss: 0.0770 - accuracy: 0.9902\n"
     ]
    }
   ],
   "source": [
    "# Model evaluation\n",
    "val_loss, val_acc = model.evaluate(X_test, y_test, batch_size=128)"
   ]
  },
  {
   "cell_type": "code",
   "execution_count": 40,
   "metadata": {
    "id": "RBkmDeUW9hE4"
   },
   "outputs": [],
   "source": [
    "# Loading the saved model\n",
    "model = tf.keras.models.load_model(model_save_path)"
   ]
  },
  {
   "cell_type": "code",
   "execution_count": 41,
   "metadata": {
    "colab": {
     "base_uri": "https://localhost:8080/"
    },
    "id": "tFz9Tb0I9hE4",
    "outputId": "1c3b3528-54ae-4ee2-ab04-77429211cbef"
   },
   "outputs": [
    {
     "name": "stdout",
     "output_type": "stream",
     "text": [
      "1/1 [==============================] - 0s 173ms/step\n",
      "[4.97138734e-13 8.19166834e-16 9.63972738e-12 1.81294512e-04\n",
      " 5.25819877e-09 2.44161811e-08 1.89900509e-11 8.69887773e-11\n",
      " 7.12164272e-10 2.14848782e-07 5.90851881e-11 3.20831305e-07\n",
      " 4.09778439e-13 9.80282744e-10 2.96740232e-09 4.32316145e-18\n",
      " 7.64147990e-06 1.27531950e-13 1.92607800e-12 1.55236890e-08\n",
      " 9.99694109e-01 7.44881973e-23 8.64655938e-29 1.02457244e-16\n",
      " 4.65681604e-10 1.09707656e-07 3.43592182e-10 1.20187346e-10\n",
      " 4.92973067e-12 2.01103561e-11 1.69600172e-23 8.23120188e-23\n",
      " 1.08141318e-16 2.29283318e-21 1.21358635e-15 7.93935772e-14\n",
      " 1.05230662e-04 1.36382333e-12 1.77896960e-14 6.63542066e-09\n",
      " 3.72422785e-17 7.96509380e-15 6.51027054e-09 5.29633178e-11\n",
      " 8.34433390e-12 8.16829677e-12 1.09654143e-25 4.91255199e-20\n",
      " 6.73132562e-22 5.11984965e-14 2.12976507e-14 4.48700700e-22\n",
      " 7.37199635e-13 2.30111212e-07 5.89436474e-24 5.16257792e-09\n",
      " 1.32155838e-15 1.52377382e-14 8.26029918e-15 5.94566516e-19\n",
      " 5.14749077e-18 2.48096205e-12 1.49191095e-08 1.04018309e-05\n",
      " 2.41757603e-16 3.81504661e-10 1.04312851e-22 4.70201087e-07\n",
      " 5.06111104e-13 3.26173290e-21 4.99828662e-31]\n",
      "20\n"
     ]
    }
   ],
   "source": [
    "# Inference test\n",
    "predict_result = model.predict(np.array([X_test[0]]))\n",
    "print(np.squeeze(predict_result))\n",
    "print(np.argmax(np.squeeze(predict_result)))"
   ]
  },
  {
   "cell_type": "markdown",
   "metadata": {
    "id": "S3U4yNWx9hE4"
   },
   "source": [
    "# Confusion matrix"
   ]
  },
  {
   "cell_type": "code",
   "execution_count": 50,
   "metadata": {
    "colab": {
     "base_uri": "https://localhost:8080/",
     "height": 582
    },
    "id": "AP1V6SCk9hE5",
    "outputId": "08e41a80-7a4a-4619-8125-ecc371368d19"
   },
   "outputs": [
    {
     "name": "stdout",
     "output_type": "stream",
     "text": [
      "67/67 [==============================] - 0s 3ms/step\n"
     ]
    },
    {
     "data": {
      "image/png": "[encoded data removed]",
      "text/plain": [
       "<Figure size 1000x1000 with 2 Axes>"
      ]
     },
     "metadata": {},
     "output_type": "display_data"
    },
    {
     "name": "stdout",
     "output_type": "stream",
     "text": [
      "Classification Report\n",
      "              precision    recall  f1-score   support\n",
      "\n",
      "           0       1.00      1.00      1.00        28\n",
      "           1       1.00      1.00      1.00        37\n",
      "           2       0.97      0.94      0.95        64\n",
      "           3       0.98      1.00      0.99        46\n",
      "           4       1.00      0.98      0.99        47\n",
      "           5       1.00      0.97      0.99        40\n",
      "           6       0.97      1.00      0.99        35\n",
      "           7       1.00      1.00      1.00        13\n",
      "           8       0.97      1.00      0.99        33\n",
      "           9       0.97      1.00      0.98        32\n",
      "          10       0.96      1.00      0.98        23\n",
      "          11       1.00      1.00      1.00        27\n",
      "          12       0.92      1.00      0.96        35\n",
      "          13       1.00      1.00      1.00        33\n",
      "          14       1.00      0.96      0.98        27\n",
      "          15       0.91      1.00      0.95        40\n",
      "          16       1.00      1.00      1.00        35\n",
      "          17       1.00      1.00      1.00        26\n",
      "          18       1.00      1.00      1.00        34\n",
      "          19       0.96      1.00      0.98        22\n",
      "          20       1.00      0.97      0.98        31\n",
      "          21       1.00      0.97      0.98        30\n",
      "          22       1.00      1.00      1.00        27\n",
      "          23       1.00      1.00      1.00        29\n",
      "          24       1.00      1.00      1.00        33\n",
      "          25       1.00      1.00      1.00        31\n",
      "          26       1.00      1.00      1.00        22\n",
      "          27       1.00      1.00      1.00        30\n",
      "          28       1.00      1.00      1.00        15\n",
      "          29       1.00      1.00      1.00        25\n",
      "          30       1.00      1.00      1.00        17\n",
      "          31       1.00      1.00      1.00        28\n",
      "          32       1.00      1.00      1.00        30\n",
      "          33       1.00      0.95      0.97        39\n",
      "          34       1.00      1.00      1.00        27\n",
      "          35       1.00      1.00      1.00        26\n",
      "          36       1.00      1.00      1.00        37\n",
      "          37       1.00      0.93      0.97        30\n",
      "          38       1.00      1.00      1.00        40\n",
      "          39       1.00      1.00      1.00        30\n",
      "          40       1.00      0.94      0.97        32\n",
      "          41       1.00      1.00      1.00        34\n",
      "          42       1.00      1.00      1.00        27\n",
      "          43       1.00      0.96      0.98        23\n",
      "          44       1.00      1.00      1.00        35\n",
      "          45       1.00      1.00      1.00        24\n",
      "          46       1.00      1.00      1.00        24\n",
      "          47       1.00      0.96      0.98        28\n",
      "          48       1.00      1.00      1.00        23\n",
      "          49       1.00      1.00      1.00        32\n",
      "          50       1.00      1.00      1.00        32\n",
      "          51       1.00      0.96      0.98        24\n",
      "          52       1.00      0.94      0.97        32\n",
      "          53       0.95      1.00      0.97        37\n",
      "          54       1.00      1.00      1.00        32\n",
      "          55       1.00      1.00      1.00        21\n",
      "          56       1.00      1.00      1.00        20\n",
      "          57       1.00      1.00      1.00        20\n",
      "          58       1.00      1.00      1.00        21\n",
      "          59       1.00      1.00      1.00        31\n",
      "          60       1.00      1.00      1.00        27\n",
      "          62       1.00      1.00      1.00        36\n",
      "          63       1.00      1.00      1.00        42\n",
      "          64       1.00      1.00      1.00        37\n",
      "          65       0.89      1.00      0.94        25\n",
      "          66       1.00      1.00      1.00        22\n",
      "          67       1.00      0.97      0.99        35\n",
      "          68       1.00      1.00      1.00        25\n",
      "          69       0.97      1.00      0.99        38\n",
      "          70       1.00      1.00      1.00        39\n",
      "\n",
      "    accuracy                           0.99      2132\n",
      "   macro avg       0.99      0.99      0.99      2132\n",
      "weighted avg       0.99      0.99      0.99      2132\n",
      "\n"
     ]
    }
   ],
   "source": [
    "import pandas as pd\n",
    "import seaborn as sns\n",
    "import matplotlib.pyplot as plt\n",
    "from sklearn.metrics import confusion_matrix, classification_report\n",
    "\n",
    "def print_confusion_matrix(y_true, y_pred, report=True):\n",
    "    labels = sorted(list(set(y_true)))\n",
    "    cmx_data = confusion_matrix(y_true, y_pred, labels=labels)\n",
    "    \n",
    "    df_cmx = pd.DataFrame(cmx_data, index=labels, columns=labels)\n",
    " \n",
    "    fig, ax = plt.subplots(figsize=(10, 10))\n",
    "    sns.heatmap(df_cmx, annot=True, fmt='g' ,square=False)\n",
    "    ax.set_ylim(len(set(y_true)), 0)\n",
    "    plt.show()\n",
    "    \n",
    "    if report:\n",
    "        print('Classification Report')\n",
    "        print(classification_report(y_test, y_pred))\n",
    "\n",
    "Y_pred = model.predict(X_test)\n",
    "y_pred = np.argmax(Y_pred, axis=1)\n",
    "\n",
    "print_confusion_matrix(y_test, y_pred)"
   ]
  },
  {
   "cell_type": "markdown",
   "metadata": {
    "id": "FNP6aqzc9hE5"
   },
   "source": [
    "# Convert to model for Tensorflow-Lite"
   ]
  },
  {
   "cell_type": "code",
   "execution_count": 43,
   "metadata": {
    "id": "ODjnYyld9hE6"
   },
   "outputs": [
    {
     "name": "stderr",
     "output_type": "stream",
     "text": [
      "C:\\Users\\Sanjay\\AppData\\Local\\Programs\\Python\\Python39\\lib\\site-packages\\keras\\src\\engine\\training.py:3000: UserWarning: You are saving your model as an HDF5 file via `model.save()`. This file format is considered legacy. We recommend using instead the native Keras format, e.g. `model.save('my_model.keras')`.\n",
      "  saving_api.save_model(\n"
     ]
    }
   ],
   "source": [
    "# Save as a model dedicated to inference\n",
    "model.save(model_save_path, include_optimizer=False)"
   ]
  },
  {
   "cell_type": "code",
   "execution_count": 44,
   "metadata": {
    "colab": {
     "base_uri": "https://localhost:8080/"
    },
    "id": "zRfuK8Y59hE6",
    "outputId": "a4ca585c-b5d5-4244-8291-8674063209bb"
   },
   "outputs": [
    {
     "name": "stdout",
     "output_type": "stream",
     "text": [
      "INFO:tensorflow:Assets written to: C:\\Users\\Sanjay\\AppData\\Local\\Temp\\tmp7syxr2ks\\assets\n"
     ]
    },
    {
     "name": "stderr",
     "output_type": "stream",
     "text": [
      "INFO:tensorflow:Assets written to: C:\\Users\\Sanjay\\AppData\\Local\\Temp\\tmp7syxr2ks\\assets\n"
     ]
    },
    {
     "data": {
      "text/plain": [
       "32144"
      ]
     },
     "execution_count": 44,
     "metadata": {},
     "output_type": "execute_result"
    }
   ],
   "source": [
    "# Transform model (quantization)\n",
    "\n",
    "converter = tf.lite.TFLiteConverter.from_keras_model(model)\n",
    "converter.optimizations = [tf.lite.Optimize.DEFAULT]\n",
    "tflite_quantized_model = converter.convert()\n",
    "\n",
    "open(tflite_save_path, 'wb').write(tflite_quantized_model)"
   ]
  },
  {
   "cell_type": "markdown",
   "metadata": {
    "id": "CHBPBXdx9hE6"
   },
   "source": [
    "# Inference test"
   ]
  },
  {
   "cell_type": "code",
   "execution_count": 45,
   "metadata": {
    "id": "mGAzLocO9hE7"
   },
   "outputs": [],
   "source": [
    "interpreter = tf.lite.Interpreter(model_path=tflite_save_path)\n",
    "interpreter.allocate_tensors()"
   ]
  },
  {
   "cell_type": "code",
   "execution_count": 46,
   "metadata": {
    "id": "oQuDK8YS9hE7"
   },
   "outputs": [],
   "source": [
    "# Get I / O tensor\n",
    "input_details = interpreter.get_input_details()\n",
    "output_details = interpreter.get_output_details()"
   ]
  },
  {
   "cell_type": "code",
   "execution_count": 47,
   "metadata": {
    "id": "2_ixAf_l9hE7"
   },
   "outputs": [],
   "source": [
    "interpreter.set_tensor(input_details[0]['index'], np.array([X_test[0]]))"
   ]
  },
  {
   "cell_type": "code",
   "execution_count": 48,
   "metadata": {
    "colab": {
     "base_uri": "https://localhost:8080/"
    },
    "id": "s4FoAnuc9hE7",
    "outputId": "91f18257-8d8b-4ef3-c558-e9b5f94fabbf",
    "scrolled": true
   },
   "outputs": [
    {
     "name": "stdout",
     "output_type": "stream",
     "text": [
      "CPU times: total: 0 ns\n",
      "Wall time: 1.24 ms\n"
     ]
    }
   ],
   "source": [
    "%%time\n",
    "# Inference implementation\n",
    "interpreter.invoke()\n",
    "tflite_results = interpreter.get_tensor(output_details[0]['index'])"
   ]
  },
  {
   "cell_type": "code",
   "execution_count": 49,
   "metadata": {
    "colab": {
     "base_uri": "https://localhost:8080/"
    },
    "id": "vONjp19J9hE8",
    "outputId": "77205e24-fd00-42c4-f7b6-e06e527c2cba"
   },
   "outputs": [
    {
     "name": "stdout",
     "output_type": "stream",
     "text": [
      "[5.17410333e-13 8.16583966e-16 9.80516189e-12 1.34590198e-04\n",
      " 5.03514741e-09 2.23877912e-08 1.93918111e-11 9.81094511e-11\n",
      " 7.25517257e-10 2.95727318e-07 9.03419908e-11 3.24298981e-07\n",
      " 3.79911841e-13 9.40401756e-10 3.41758510e-09 4.88818288e-18\n",
      " 7.12341352e-06 1.08076383e-13 1.73180003e-12 1.52976938e-08\n",
      " 9.99732792e-01 9.92278472e-23 9.87574084e-29 1.01611125e-16\n",
      " 4.05213807e-10 1.34043916e-07 4.02663597e-10 1.15277309e-10\n",
      " 5.75913406e-12 2.22309966e-11 2.04520788e-23 1.06994972e-22\n",
      " 1.93327065e-16 3.24110811e-21 1.29602267e-15 8.54853501e-14\n",
      " 1.14801514e-04 1.36775519e-12 2.08028378e-14 6.47075815e-09\n",
      " 3.78290705e-17 1.14048184e-14 5.82194204e-09 6.12874543e-11\n",
      " 8.63137947e-12 8.48416996e-12 1.74680305e-25 5.17667140e-20\n",
      " 9.09320193e-22 5.28580035e-14 2.61322946e-14 4.83740210e-22\n",
      " 8.05613714e-13 2.86574334e-07 7.83936047e-24 4.55681270e-09\n",
      " 1.73717659e-15 1.47080122e-14 7.99889550e-15 1.03118279e-18\n",
      " 5.02857818e-18 2.39658293e-12 1.41217678e-08 9.03716864e-06\n",
      " 2.51824960e-16 5.07999975e-10 1.53825541e-22 5.13169994e-07\n",
      " 5.43212393e-13 3.23646289e-21 6.68398689e-31]\n",
      "20\n"
     ]
    }
   ],
   "source": [
    "print(np.squeeze(tflite_results))\n",
    "print(np.argmax(np.squeeze(tflite_results)))"
   ]
  },
  {
   "cell_type": "code",
   "execution_count": null,
   "metadata": {},
   "outputs": [],
   "source": []
  },
  {
   "cell_type": "code",
   "execution_count": null,
   "metadata": {},
   "outputs": [],
   "source": []
  },
  {
   "cell_type": "code",
   "execution_count": null,
   "metadata": {},
   "outputs": [],
   "source": []
  }
 ],
 "metadata": {
  "accelerator": "GPU",
  "colab": {
   "collapsed_sections": [],
   "name": "keypoint_classification_EN.ipynb",
   "provenance": [],
   "toc_visible": true
  },
  "kernelspec": {
   "display_name": "Python 3 (ipykernel)",
   "language": "python",
   "name": "python3"
  },
  "language_info": {
   "codemirror_mode": {
    "name": "ipython",
    "version": 3
   },
   "file_extension": ".py",
   "mimetype": "text/x-python",
   "name": "python",
   "nbconvert_exporter": "python",
   "pygments_lexer": "ipython3",
   "version": "3.9.7"
  }
 },
 "nbformat": 4,
 "nbformat_minor": 1
}
