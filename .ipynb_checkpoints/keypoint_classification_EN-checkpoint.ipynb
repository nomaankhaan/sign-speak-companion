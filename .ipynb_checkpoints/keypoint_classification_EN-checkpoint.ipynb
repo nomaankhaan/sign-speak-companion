{
 "cells": [
  {
   "cell_type": "code",
   "execution_count": 123,
   "metadata": {
    "id": "igMyGnjE9hEp"
   },
   "outputs": [],
   "source": [
    "import csv\n",
    "\n",
    "import numpy as np\n",
    "import tensorflow as tf\n",
    "from sklearn.model_selection import train_test_split\n",
    "\n",
    "RANDOM_SEED = 42"
   ]
  },
  {
   "cell_type": "markdown",
   "metadata": {
    "id": "t2HDvhIu9hEr"
   },
   "source": [
    "# Specify each path"
   ]
  },
  {
   "cell_type": "code",
   "execution_count": 124,
   "metadata": {
    "id": "9NvZP2Zn9hEy"
   },
   "outputs": [],
   "source": [
    "dataset = 'model/keypoint_classifier/keypoint.csv'\n",
    "model_save_path = 'model/keypoint_classifier/keypoint_classifier.hdf5'\n",
    "tflite_save_path = 'model/keypoint_classifier/keypoint_classifier.tflite'"
   ]
  },
  {
   "cell_type": "markdown",
   "metadata": {
    "id": "s5oMH7x19hEz"
   },
   "source": [
    "# Set number of classes"
   ]
  },
  {
   "cell_type": "code",
   "execution_count": 125,
   "metadata": {
    "id": "du4kodXL9hEz"
   },
   "outputs": [],
   "source": [
    "NUM_CLASSES = 41"
   ]
  },
  {
   "cell_type": "markdown",
   "metadata": {
    "id": "XjnL0uso9hEz"
   },
   "source": [
    "# Dataset reading"
   ]
  },
  {
   "cell_type": "code",
   "execution_count": 126,
   "metadata": {
    "id": "QT5ZqtEz9hE0"
   },
   "outputs": [],
   "source": [
    "X_dataset = np.loadtxt(dataset, delimiter=',', dtype='float32', usecols=list(range(1, (21*2 + 21*2 + 2*1) + 1)))"
   ]
  },
  {
   "cell_type": "code",
   "execution_count": 127,
   "metadata": {
    "id": "QmoKFsp49hE0"
   },
   "outputs": [],
   "source": [
    "y_dataset = np.loadtxt(dataset, delimiter=',', dtype='int32', usecols=(0))"
   ]
  },
  {
   "cell_type": "code",
   "execution_count": 128,
   "metadata": {
    "id": "xQU7JTZ_9hE0"
   },
   "outputs": [],
   "source": [
    "X_train, X_test, y_train, y_test = train_test_split(X_dataset, y_dataset, train_size=0.75, random_state=RANDOM_SEED)"
   ]
  },
  {
   "cell_type": "markdown",
   "metadata": {
    "id": "mxK_lETT9hE0"
   },
   "source": [
    "# Model building"
   ]
  },
  {
   "cell_type": "code",
   "execution_count": 129,
   "metadata": {
    "id": "vHBmUf1t9hE1"
   },
   "outputs": [],
   "source": [
    "# model = tf.keras.models.Sequential([\n",
    "#     tf.keras.layers.Input((21*2 + 21*2 + 2*1 )),\n",
    "#     tf.keras.layers.Dropout(0.2),\n",
    "#     tf.keras.layers.Dense(20, activation='relu'),\n",
    "#     tf.keras.layers.Dropout(0.4),\n",
    "#     tf.keras.layers.Dense(10, activation='relu'),\n",
    "#     tf.keras.layers.Dense(NUM_CLASSES, activation='softmax')\n",
    "# ])"
   ]
  },
  {
   "cell_type": "code",
   "execution_count": 130,
   "metadata": {},
   "outputs": [],
   "source": [
    "model = tf.keras.models.Sequential([\n",
    "    tf.keras.layers.Input((21*2 + 21*2 + 2*1 )),\n",
    "    tf.keras.layers.Dense(80, activation='relu'),\n",
    "    tf.keras.layers.Dropout(0.2),\n",
    "    tf.keras.layers.Dense(100, activation='relu'),\n",
    "    tf.keras.layers.Dropout(0.4),\n",
    "    tf.keras.layers.Dense(50, activation='relu'),\n",
    "    tf.keras.layers.Dense(NUM_CLASSES, activation='softmax')\n",
    "])"
   ]
  },
  {
   "cell_type": "code",
   "execution_count": 131,
   "metadata": {},
   "outputs": [],
   "source": [
    "# model = tf.keras.models.Sequential([\n",
    "#     tf.keras.layers.Input((21*2 + 21*2 + 2*1 )),\n",
    "#     tf.keras.layers.Dropout(0.2),\n",
    "#     tf.keras.layers.Dense(100, activation='relu'),\n",
    "#     tf.keras.layers.Dropout(0.4),\n",
    "#     tf.keras.layers.Dense(50, activation='relu'),\n",
    "#     tf.keras.layers.Dense(NUM_CLASSES, activation='softmax')\n",
    "# ])"
   ]
  },
  {
   "cell_type": "code",
   "execution_count": 132,
   "metadata": {
    "colab": {
     "base_uri": "https://localhost:8080/"
    },
    "id": "ypqky9tc9hE1",
    "outputId": "5db082bb-30e3-4110-bf63-a1ee777ecd46"
   },
   "outputs": [
    {
     "name": "stdout",
     "output_type": "stream",
     "text": [
      "Model: \"sequential_5\"\n",
      "_________________________________________________________________\n",
      " Layer (type)                Output Shape              Param #   \n",
      "=================================================================\n",
      " dense_20 (Dense)            (None, 80)                6960      \n",
      "                                                                 \n",
      " dropout_10 (Dropout)        (None, 80)                0         \n",
      "                                                                 \n",
      " dense_21 (Dense)            (None, 100)               8100      \n",
      "                                                                 \n",
      " dropout_11 (Dropout)        (None, 100)               0         \n",
      "                                                                 \n",
      " dense_22 (Dense)            (None, 50)                5050      \n",
      "                                                                 \n",
      " dense_23 (Dense)            (None, 43)                2193      \n",
      "                                                                 \n",
      "=================================================================\n",
      "Total params: 22303 (87.12 KB)\n",
      "Trainable params: 22303 (87.12 KB)\n",
      "Non-trainable params: 0 (0.00 Byte)\n",
      "_________________________________________________________________\n"
     ]
    }
   ],
   "source": [
    "model.summary()  # tf.keras.utils.plot_model(model, show_shapes=True)"
   ]
  },
  {
   "cell_type": "code",
   "execution_count": 133,
   "metadata": {
    "id": "MbMjOflQ9hE1"
   },
   "outputs": [],
   "source": [
    "# Model checkpoint callback\n",
    "cp_callback = tf.keras.callbacks.ModelCheckpoint(\n",
    "    model_save_path, verbose=1, save_weights_only=False)\n",
    "# Callback for early stopping\n",
    "es_callback = tf.keras.callbacks.EarlyStopping(patience=20, verbose=1)"
   ]
  },
  {
   "cell_type": "code",
   "execution_count": 134,
   "metadata": {
    "id": "c3Dac0M_9hE2"
   },
   "outputs": [],
   "source": [
    "# Model compilation\n",
    "model.compile(\n",
    "    optimizer='adam',\n",
    "    loss='sparse_categorical_crossentropy',\n",
    "    metrics=['accuracy']\n",
    ")"
   ]
  },
  {
   "cell_type": "markdown",
   "metadata": {
    "id": "7XI0j1Iu9hE2"
   },
   "source": [
    "# Model training"
   ]
  },
  {
   "cell_type": "code",
   "execution_count": 135,
   "metadata": {
    "colab": {
     "base_uri": "https://localhost:8080/"
    },
    "id": "WirBl-JE9hE3",
    "outputId": "71b30ca2-8294-4d9d-8aa2-800d90d399de",
    "scrolled": true
   },
   "outputs": [
    {
     "name": "stdout",
     "output_type": "stream",
     "text": [
      "Epoch 1/4300\n",
      "18/32 [===============>..............] - ETA: 0s - loss: 3.7060 - accuracy: 0.0460 \n",
      "Epoch 1: saving model to model/keypoint_classifier\\keypoint_classifier.hdf5\n",
      "32/32 [==============================] - 1s 9ms/step - loss: 3.6327 - accuracy: 0.0630 - val_loss: 3.3390 - val_accuracy: 0.1101\n",
      "Epoch 2/4300\n",
      "19/32 [================>.............] - ETA: 0s - loss: 3.2997 - accuracy: 0.1147\n",
      "Epoch 2: saving model to model/keypoint_classifier\\keypoint_classifier.hdf5\n",
      "32/32 [==============================] - 0s 5ms/step - loss: 3.1891 - accuracy: 0.1229 - val_loss: 2.7666 - val_accuracy: 0.2517\n"
     ]
    },
    {
     "name": "stderr",
     "output_type": "stream",
     "text": [
      "C:\\Users\\Sanjay\\AppData\\Local\\Programs\\Python\\Python39\\lib\\site-packages\\keras\\src\\engine\\training.py:3000: UserWarning: You are saving your model as an HDF5 file via `model.save()`. This file format is considered legacy. We recommend using instead the native Keras format, e.g. `model.save('my_model.keras')`.\n",
      "  saving_api.save_model(\n"
     ]
    },
    {
     "name": "stdout",
     "output_type": "stream",
     "text": [
      "Epoch 3/4300\n",
      "18/32 [===============>..............] - ETA: 0s - loss: 2.7723 - accuracy: 0.1806\n",
      "Epoch 3: saving model to model/keypoint_classifier\\keypoint_classifier.hdf5\n",
      "32/32 [==============================] - 0s 6ms/step - loss: 2.7123 - accuracy: 0.1931 - val_loss: 2.2761 - val_accuracy: 0.4142\n",
      "Epoch 4/4300\n",
      "17/32 [==============>...............] - ETA: 0s - loss: 2.4168 - accuracy: 0.2449\n",
      "Epoch 4: saving model to model/keypoint_classifier\\keypoint_classifier.hdf5\n",
      "32/32 [==============================] - 0s 5ms/step - loss: 2.3220 - accuracy: 0.2680 - val_loss: 1.8220 - val_accuracy: 0.5521\n",
      "Epoch 5/4300\n",
      "20/32 [=================>............] - ETA: 0s - loss: 2.0007 - accuracy: 0.3695\n",
      "Epoch 5: saving model to model/keypoint_classifier\\keypoint_classifier.hdf5\n",
      "32/32 [==============================] - 0s 5ms/step - loss: 1.9507 - accuracy: 0.3740 - val_loss: 1.4408 - val_accuracy: 0.6981\n",
      "Epoch 6/4300\n",
      "20/32 [=================>............] - ETA: 0s - loss: 1.7024 - accuracy: 0.4465\n",
      "Epoch 6: saving model to model/keypoint_classifier\\keypoint_classifier.hdf5\n",
      "32/32 [==============================] - 0s 5ms/step - loss: 1.6538 - accuracy: 0.4664 - val_loss: 1.1580 - val_accuracy: 0.7288\n",
      "Epoch 7/4300\n",
      "19/32 [================>.............] - ETA: 0s - loss: 1.4702 - accuracy: 0.5144\n",
      "Epoch 7: saving model to model/keypoint_classifier\\keypoint_classifier.hdf5\n",
      "32/32 [==============================] - 0s 5ms/step - loss: 1.4257 - accuracy: 0.5309 - val_loss: 0.9567 - val_accuracy: 0.7843\n",
      "Epoch 8/4300\n",
      "19/32 [================>.............] - ETA: 0s - loss: 1.2788 - accuracy: 0.5522\n",
      "Epoch 8: saving model to model/keypoint_classifier\\keypoint_classifier.hdf5\n",
      "32/32 [==============================] - 0s 5ms/step - loss: 1.2467 - accuracy: 0.5723 - val_loss: 0.8330 - val_accuracy: 0.7940\n",
      "Epoch 9/4300\n",
      "21/32 [==================>...........] - ETA: 0s - loss: 1.1460 - accuracy: 0.6202\n",
      "Epoch 9: saving model to model/keypoint_classifier\\keypoint_classifier.hdf5\n",
      "32/32 [==============================] - 0s 5ms/step - loss: 1.1237 - accuracy: 0.6255 - val_loss: 0.7242 - val_accuracy: 0.8180\n",
      "Epoch 10/4300\n",
      "22/32 [===================>..........] - ETA: 0s - loss: 1.0441 - accuracy: 0.6513\n",
      "Epoch 10: saving model to model/keypoint_classifier\\keypoint_classifier.hdf5\n",
      "32/32 [==============================] - 0s 4ms/step - loss: 1.0357 - accuracy: 0.6560 - val_loss: 0.6549 - val_accuracy: 0.8097\n",
      "Epoch 11/4300\n",
      "22/32 [===================>..........] - ETA: 0s - loss: 0.9847 - accuracy: 0.6619\n",
      "Epoch 11: saving model to model/keypoint_classifier\\keypoint_classifier.hdf5\n",
      "32/32 [==============================] - 0s 4ms/step - loss: 0.9723 - accuracy: 0.6700 - val_loss: 0.6134 - val_accuracy: 0.8127\n",
      "Epoch 12/4300\n",
      "23/32 [====================>.........] - ETA: 0s - loss: 0.8775 - accuracy: 0.7062\n",
      "Epoch 12: saving model to model/keypoint_classifier\\keypoint_classifier.hdf5\n",
      "32/32 [==============================] - 0s 4ms/step - loss: 0.8811 - accuracy: 0.7040 - val_loss: 0.5466 - val_accuracy: 0.8562\n",
      "Epoch 13/4300\n",
      "21/32 [==================>...........] - ETA: 0s - loss: 0.8000 - accuracy: 0.7355\n",
      "Epoch 13: saving model to model/keypoint_classifier\\keypoint_classifier.hdf5\n",
      "32/32 [==============================] - 0s 4ms/step - loss: 0.8045 - accuracy: 0.7315 - val_loss: 0.5059 - val_accuracy: 0.8367\n",
      "Epoch 14/4300\n",
      "20/32 [=================>............] - ETA: 0s - loss: 0.7670 - accuracy: 0.7477\n",
      "Epoch 14: saving model to model/keypoint_classifier\\keypoint_classifier.hdf5\n",
      "32/32 [==============================] - 0s 5ms/step - loss: 0.7457 - accuracy: 0.7494 - val_loss: 0.4855 - val_accuracy: 0.8472\n",
      "Epoch 15/4300\n",
      "15/32 [=============>................] - ETA: 0s - loss: 0.7442 - accuracy: 0.7448\n",
      "Epoch 15: saving model to model/keypoint_classifier\\keypoint_classifier.hdf5\n",
      "32/32 [==============================] - 0s 5ms/step - loss: 0.7334 - accuracy: 0.7529 - val_loss: 0.4521 - val_accuracy: 0.8674\n",
      "Epoch 16/4300\n",
      "21/32 [==================>...........] - ETA: 0s - loss: 0.6809 - accuracy: 0.7664\n",
      "Epoch 16: saving model to model/keypoint_classifier\\keypoint_classifier.hdf5\n",
      "32/32 [==============================] - 0s 5ms/step - loss: 0.6885 - accuracy: 0.7634 - val_loss: 0.4263 - val_accuracy: 0.8644\n",
      "Epoch 17/4300\n",
      "21/32 [==================>...........] - ETA: 0s - loss: 0.6761 - accuracy: 0.7742\n",
      "Epoch 17: saving model to model/keypoint_classifier\\keypoint_classifier.hdf5\n",
      "32/32 [==============================] - 0s 5ms/step - loss: 0.6690 - accuracy: 0.7747 - val_loss: 0.4099 - val_accuracy: 0.8697\n",
      "Epoch 18/4300\n",
      "21/32 [==================>...........] - ETA: 0s - loss: 0.6279 - accuracy: 0.7865\n",
      "Epoch 18: saving model to model/keypoint_classifier\\keypoint_classifier.hdf5\n",
      "32/32 [==============================] - 0s 4ms/step - loss: 0.6288 - accuracy: 0.7864 - val_loss: 0.3724 - val_accuracy: 0.8801\n",
      "Epoch 19/4300\n",
      "21/32 [==================>...........] - ETA: 0s - loss: 0.6021 - accuracy: 0.7865\n",
      "Epoch 19: saving model to model/keypoint_classifier\\keypoint_classifier.hdf5\n",
      "32/32 [==============================] - 0s 4ms/step - loss: 0.5860 - accuracy: 0.7932 - val_loss: 0.3600 - val_accuracy: 0.8674\n",
      "Epoch 20/4300\n",
      "22/32 [===================>..........] - ETA: 0s - loss: 0.5694 - accuracy: 0.7923\n",
      "Epoch 20: saving model to model/keypoint_classifier\\keypoint_classifier.hdf5\n",
      "32/32 [==============================] - 0s 4ms/step - loss: 0.5764 - accuracy: 0.7949 - val_loss: 0.3396 - val_accuracy: 0.9041\n",
      "Epoch 21/4300\n",
      "20/32 [=================>............] - ETA: 0s - loss: 0.5675 - accuracy: 0.8031\n",
      "Epoch 21: saving model to model/keypoint_classifier\\keypoint_classifier.hdf5\n",
      "32/32 [==============================] - 0s 5ms/step - loss: 0.5539 - accuracy: 0.8066 - val_loss: 0.3222 - val_accuracy: 0.9064\n",
      "Epoch 22/4300\n",
      "19/32 [================>.............] - ETA: 0s - loss: 0.5150 - accuracy: 0.8228\n",
      "Epoch 22: saving model to model/keypoint_classifier\\keypoint_classifier.hdf5\n",
      "32/32 [==============================] - 0s 4ms/step - loss: 0.5263 - accuracy: 0.8146 - val_loss: 0.3098 - val_accuracy: 0.9116\n",
      "Epoch 23/4300\n",
      "23/32 [====================>.........] - ETA: 0s - loss: 0.5159 - accuracy: 0.8186\n",
      "Epoch 23: saving model to model/keypoint_classifier\\keypoint_classifier.hdf5\n",
      "32/32 [==============================] - 0s 4ms/step - loss: 0.5146 - accuracy: 0.8184 - val_loss: 0.2949 - val_accuracy: 0.9116\n",
      "Epoch 24/4300\n",
      "20/32 [=================>............] - ETA: 0s - loss: 0.5107 - accuracy: 0.8219\n",
      "Epoch 24: saving model to model/keypoint_classifier\\keypoint_classifier.hdf5\n",
      "32/32 [==============================] - 0s 5ms/step - loss: 0.5090 - accuracy: 0.8239 - val_loss: 0.2771 - val_accuracy: 0.9191\n",
      "Epoch 25/4300\n",
      "20/32 [=================>............] - ETA: 0s - loss: 0.4780 - accuracy: 0.8352\n",
      "Epoch 25: saving model to model/keypoint_classifier\\keypoint_classifier.hdf5\n",
      "32/32 [==============================] - 0s 5ms/step - loss: 0.4877 - accuracy: 0.8309 - val_loss: 0.2746 - val_accuracy: 0.9101\n",
      "Epoch 26/4300\n",
      "18/32 [===============>..............] - ETA: 0s - loss: 0.4687 - accuracy: 0.8303\n",
      "Epoch 26: saving model to model/keypoint_classifier\\keypoint_classifier.hdf5\n",
      "32/32 [==============================] - 0s 5ms/step - loss: 0.4613 - accuracy: 0.8376 - val_loss: 0.2611 - val_accuracy: 0.9303\n",
      "Epoch 27/4300\n",
      "19/32 [================>.............] - ETA: 0s - loss: 0.4568 - accuracy: 0.8409\n",
      "Epoch 27: saving model to model/keypoint_classifier\\keypoint_classifier.hdf5\n",
      "32/32 [==============================] - 0s 5ms/step - loss: 0.4513 - accuracy: 0.8449 - val_loss: 0.2535 - val_accuracy: 0.9146\n",
      "Epoch 28/4300\n",
      "21/32 [==================>...........] - ETA: 0s - loss: 0.4310 - accuracy: 0.8415\n",
      "Epoch 28: saving model to model/keypoint_classifier\\keypoint_classifier.hdf5\n",
      "32/32 [==============================] - 0s 4ms/step - loss: 0.4202 - accuracy: 0.8501 - val_loss: 0.2452 - val_accuracy: 0.9251\n",
      "Epoch 29/4300\n",
      "22/32 [===================>..........] - ETA: 0s - loss: 0.4162 - accuracy: 0.8544\n",
      "Epoch 29: saving model to model/keypoint_classifier\\keypoint_classifier.hdf5\n",
      "32/32 [==============================] - 0s 4ms/step - loss: 0.4135 - accuracy: 0.8536 - val_loss: 0.2289 - val_accuracy: 0.9318\n",
      "Epoch 30/4300\n"
     ]
    },
    {
     "name": "stdout",
     "output_type": "stream",
     "text": [
      "21/32 [==================>...........] - ETA: 0s - loss: 0.3959 - accuracy: 0.8683\n",
      "Epoch 30: saving model to model/keypoint_classifier\\keypoint_classifier.hdf5\n",
      "32/32 [==============================] - 0s 5ms/step - loss: 0.3894 - accuracy: 0.8654 - val_loss: 0.2082 - val_accuracy: 0.9378\n",
      "Epoch 31/4300\n",
      "20/32 [=================>............] - ETA: 0s - loss: 0.3858 - accuracy: 0.8656\n",
      "Epoch 31: saving model to model/keypoint_classifier\\keypoint_classifier.hdf5\n",
      "32/32 [==============================] - 0s 5ms/step - loss: 0.3872 - accuracy: 0.8673 - val_loss: 0.2166 - val_accuracy: 0.9273\n",
      "Epoch 32/4300\n",
      "22/32 [===================>..........] - ETA: 0s - loss: 0.3861 - accuracy: 0.8626\n",
      "Epoch 32: saving model to model/keypoint_classifier\\keypoint_classifier.hdf5\n",
      "32/32 [==============================] - 0s 4ms/step - loss: 0.3790 - accuracy: 0.8624 - val_loss: 0.2057 - val_accuracy: 0.9363\n",
      "Epoch 33/4300\n",
      "20/32 [=================>............] - ETA: 0s - loss: 0.3613 - accuracy: 0.8758\n",
      "Epoch 33: saving model to model/keypoint_classifier\\keypoint_classifier.hdf5\n",
      "32/32 [==============================] - 0s 4ms/step - loss: 0.3646 - accuracy: 0.8713 - val_loss: 0.1929 - val_accuracy: 0.9318\n",
      "Epoch 34/4300\n",
      "23/32 [====================>.........] - ETA: 0s - loss: 0.3558 - accuracy: 0.8828\n",
      "Epoch 34: saving model to model/keypoint_classifier\\keypoint_classifier.hdf5\n",
      "32/32 [==============================] - 0s 4ms/step - loss: 0.3531 - accuracy: 0.8831 - val_loss: 0.1841 - val_accuracy: 0.9431\n",
      "Epoch 35/4300\n",
      "32/32 [==============================] - ETA: 0s - loss: 0.3400 - accuracy: 0.8791\n",
      "Epoch 35: saving model to model/keypoint_classifier\\keypoint_classifier.hdf5\n",
      "32/32 [==============================] - 0s 6ms/step - loss: 0.3400 - accuracy: 0.8791 - val_loss: 0.1833 - val_accuracy: 0.9438\n",
      "Epoch 36/4300\n",
      "22/32 [===================>..........] - ETA: 0s - loss: 0.3188 - accuracy: 0.8828\n",
      "Epoch 36: saving model to model/keypoint_classifier\\keypoint_classifier.hdf5\n",
      "32/32 [==============================] - 0s 5ms/step - loss: 0.3264 - accuracy: 0.8816 - val_loss: 0.1779 - val_accuracy: 0.9378\n",
      "Epoch 37/4300\n",
      "21/32 [==================>...........] - ETA: 0s - loss: 0.3081 - accuracy: 0.8828\n",
      "Epoch 37: saving model to model/keypoint_classifier\\keypoint_classifier.hdf5\n",
      "32/32 [==============================] - 0s 5ms/step - loss: 0.3131 - accuracy: 0.8818 - val_loss: 0.1708 - val_accuracy: 0.9438\n",
      "Epoch 38/4300\n",
      "21/32 [==================>...........] - ETA: 0s - loss: 0.3297 - accuracy: 0.8813\n",
      "Epoch 38: saving model to model/keypoint_classifier\\keypoint_classifier.hdf5\n",
      "32/32 [==============================] - 0s 5ms/step - loss: 0.3243 - accuracy: 0.8848 - val_loss: 0.1629 - val_accuracy: 0.9453\n",
      "Epoch 39/4300\n",
      "21/32 [==================>...........] - ETA: 0s - loss: 0.3200 - accuracy: 0.8873\n",
      "Epoch 39: saving model to model/keypoint_classifier\\keypoint_classifier.hdf5\n",
      "32/32 [==============================] - 0s 5ms/step - loss: 0.3045 - accuracy: 0.8953 - val_loss: 0.1643 - val_accuracy: 0.9476\n",
      "Epoch 40/4300\n",
      "22/32 [===================>..........] - ETA: 0s - loss: 0.2962 - accuracy: 0.8960\n",
      "Epoch 40: saving model to model/keypoint_classifier\\keypoint_classifier.hdf5\n",
      "32/32 [==============================] - 0s 5ms/step - loss: 0.2990 - accuracy: 0.8971 - val_loss: 0.1561 - val_accuracy: 0.9461\n",
      "Epoch 41/4300\n",
      "21/32 [==================>...........] - ETA: 0s - loss: 0.2892 - accuracy: 0.8981\n",
      "Epoch 41: saving model to model/keypoint_classifier\\keypoint_classifier.hdf5\n",
      "32/32 [==============================] - 0s 5ms/step - loss: 0.2807 - accuracy: 0.9011 - val_loss: 0.1530 - val_accuracy: 0.9423\n",
      "Epoch 42/4300\n",
      "19/32 [================>.............] - ETA: 0s - loss: 0.2758 - accuracy: 0.8976\n",
      "Epoch 42: saving model to model/keypoint_classifier\\keypoint_classifier.hdf5\n",
      "32/32 [==============================] - 0s 5ms/step - loss: 0.2844 - accuracy: 0.8983 - val_loss: 0.1499 - val_accuracy: 0.9438\n",
      "Epoch 43/4300\n",
      "20/32 [=================>............] - ETA: 0s - loss: 0.2723 - accuracy: 0.9051\n",
      "Epoch 43: saving model to model/keypoint_classifier\\keypoint_classifier.hdf5\n",
      "32/32 [==============================] - 0s 5ms/step - loss: 0.2724 - accuracy: 0.9026 - val_loss: 0.1380 - val_accuracy: 0.9498\n",
      "Epoch 44/4300\n",
      "19/32 [================>.............] - ETA: 0s - loss: 0.2642 - accuracy: 0.9062\n",
      "Epoch 44: saving model to model/keypoint_classifier\\keypoint_classifier.hdf5\n",
      "32/32 [==============================] - 0s 5ms/step - loss: 0.2735 - accuracy: 0.9041 - val_loss: 0.1407 - val_accuracy: 0.9461\n",
      "Epoch 45/4300\n",
      "21/32 [==================>...........] - ETA: 0s - loss: 0.2669 - accuracy: 0.9077\n",
      "Epoch 45: saving model to model/keypoint_classifier\\keypoint_classifier.hdf5\n",
      "32/32 [==============================] - 0s 5ms/step - loss: 0.2698 - accuracy: 0.9058 - val_loss: 0.1415 - val_accuracy: 0.9483\n",
      "Epoch 46/4300\n",
      "21/32 [==================>...........] - ETA: 0s - loss: 0.2633 - accuracy: 0.9122\n",
      "Epoch 46: saving model to model/keypoint_classifier\\keypoint_classifier.hdf5\n",
      "32/32 [==============================] - 0s 5ms/step - loss: 0.2664 - accuracy: 0.9098 - val_loss: 0.1333 - val_accuracy: 0.9521\n",
      "Epoch 47/4300\n",
      "19/32 [================>.............] - ETA: 0s - loss: 0.2650 - accuracy: 0.9091\n",
      "Epoch 47: saving model to model/keypoint_classifier\\keypoint_classifier.hdf5\n",
      "32/32 [==============================] - 0s 5ms/step - loss: 0.2592 - accuracy: 0.9093 - val_loss: 0.1401 - val_accuracy: 0.9431\n",
      "Epoch 48/4300\n",
      "21/32 [==================>...........] - ETA: 0s - loss: 0.2644 - accuracy: 0.9014\n",
      "Epoch 48: saving model to model/keypoint_classifier\\keypoint_classifier.hdf5\n",
      "32/32 [==============================] - 0s 4ms/step - loss: 0.2504 - accuracy: 0.9093 - val_loss: 0.1277 - val_accuracy: 0.9543\n",
      "Epoch 49/4300\n",
      "20/32 [=================>............] - ETA: 0s - loss: 0.2355 - accuracy: 0.9187\n",
      "Epoch 49: saving model to model/keypoint_classifier\\keypoint_classifier.hdf5\n",
      "32/32 [==============================] - 0s 5ms/step - loss: 0.2419 - accuracy: 0.9153 - val_loss: 0.1308 - val_accuracy: 0.9431\n",
      "Epoch 50/4300\n",
      "21/32 [==================>...........] - ETA: 0s - loss: 0.2451 - accuracy: 0.9107\n",
      "Epoch 50: saving model to model/keypoint_classifier\\keypoint_classifier.hdf5\n",
      "32/32 [==============================] - 0s 4ms/step - loss: 0.2422 - accuracy: 0.9146 - val_loss: 0.1256 - val_accuracy: 0.9513\n",
      "Epoch 51/4300\n",
      "21/32 [==================>...........] - ETA: 0s - loss: 0.2289 - accuracy: 0.9174\n",
      "Epoch 51: saving model to model/keypoint_classifier\\keypoint_classifier.hdf5\n",
      "32/32 [==============================] - 0s 4ms/step - loss: 0.2328 - accuracy: 0.9138 - val_loss: 0.1241 - val_accuracy: 0.9543\n",
      "Epoch 52/4300\n",
      "21/32 [==================>...........] - ETA: 0s - loss: 0.2335 - accuracy: 0.9159\n",
      "Epoch 52: saving model to model/keypoint_classifier\\keypoint_classifier.hdf5\n",
      "32/32 [==============================] - 0s 5ms/step - loss: 0.2347 - accuracy: 0.9111 - val_loss: 0.1137 - val_accuracy: 0.9603\n",
      "Epoch 53/4300\n",
      "20/32 [=================>............] - ETA: 0s - loss: 0.2332 - accuracy: 0.9207\n",
      "Epoch 53: saving model to model/keypoint_classifier\\keypoint_classifier.hdf5\n",
      "32/32 [==============================] - 0s 5ms/step - loss: 0.2256 - accuracy: 0.9198 - val_loss: 0.1224 - val_accuracy: 0.9521\n",
      "Epoch 54/4300\n",
      "20/32 [=================>............] - ETA: 0s - loss: 0.2239 - accuracy: 0.9219\n",
      "Epoch 54: saving model to model/keypoint_classifier\\keypoint_classifier.hdf5\n",
      "32/32 [==============================] - 0s 5ms/step - loss: 0.2193 - accuracy: 0.9203 - val_loss: 0.1165 - val_accuracy: 0.9573\n",
      "Epoch 55/4300\n",
      "21/32 [==================>...........] - ETA: 0s - loss: 0.2155 - accuracy: 0.9234\n",
      "Epoch 55: saving model to model/keypoint_classifier\\keypoint_classifier.hdf5\n",
      "32/32 [==============================] - 0s 5ms/step - loss: 0.2125 - accuracy: 0.9218 - val_loss: 0.1223 - val_accuracy: 0.9491\n",
      "Epoch 56/4300\n",
      "19/32 [================>.............] - ETA: 0s - loss: 0.2229 - accuracy: 0.9198\n",
      "Epoch 56: saving model to model/keypoint_classifier\\keypoint_classifier.hdf5\n",
      "32/32 [==============================] - 0s 5ms/step - loss: 0.2275 - accuracy: 0.9198 - val_loss: 0.1122 - val_accuracy: 0.9536\n",
      "Epoch 57/4300\n"
     ]
    },
    {
     "name": "stdout",
     "output_type": "stream",
     "text": [
      "17/32 [==============>...............] - ETA: 0s - loss: 0.2043 - accuracy: 0.9214\n",
      "Epoch 57: saving model to model/keypoint_classifier\\keypoint_classifier.hdf5\n",
      "32/32 [==============================] - 0s 5ms/step - loss: 0.2070 - accuracy: 0.9216 - val_loss: 0.1161 - val_accuracy: 0.9566\n",
      "Epoch 58/4300\n",
      "22/32 [===================>..........] - ETA: 0s - loss: 0.2014 - accuracy: 0.9315\n",
      "Epoch 58: saving model to model/keypoint_classifier\\keypoint_classifier.hdf5\n",
      "32/32 [==============================] - 0s 4ms/step - loss: 0.2011 - accuracy: 0.9291 - val_loss: 0.1154 - val_accuracy: 0.9581\n",
      "Epoch 59/4300\n",
      "23/32 [====================>.........] - ETA: 0s - loss: 0.2123 - accuracy: 0.9239\n",
      "Epoch 59: saving model to model/keypoint_classifier\\keypoint_classifier.hdf5\n",
      "32/32 [==============================] - 0s 4ms/step - loss: 0.2118 - accuracy: 0.9236 - val_loss: 0.1158 - val_accuracy: 0.9558\n",
      "Epoch 60/4300\n",
      "21/32 [==================>...........] - ETA: 0s - loss: 0.2003 - accuracy: 0.9215\n",
      "Epoch 60: saving model to model/keypoint_classifier\\keypoint_classifier.hdf5\n",
      "32/32 [==============================] - 0s 5ms/step - loss: 0.2034 - accuracy: 0.9236 - val_loss: 0.1166 - val_accuracy: 0.9528\n",
      "Epoch 61/4300\n",
      "20/32 [=================>............] - ETA: 0s - loss: 0.1993 - accuracy: 0.9246\n",
      "Epoch 61: saving model to model/keypoint_classifier\\keypoint_classifier.hdf5\n",
      "32/32 [==============================] - 0s 5ms/step - loss: 0.1944 - accuracy: 0.9288 - val_loss: 0.1121 - val_accuracy: 0.9536\n",
      "Epoch 62/4300\n",
      "21/32 [==================>...........] - ETA: 0s - loss: 0.2001 - accuracy: 0.9245\n",
      "Epoch 62: saving model to model/keypoint_classifier\\keypoint_classifier.hdf5\n",
      "32/32 [==============================] - 0s 5ms/step - loss: 0.1999 - accuracy: 0.9271 - val_loss: 0.1079 - val_accuracy: 0.9543\n",
      "Epoch 63/4300\n",
      "21/32 [==================>...........] - ETA: 0s - loss: 0.1885 - accuracy: 0.9368\n",
      "Epoch 63: saving model to model/keypoint_classifier\\keypoint_classifier.hdf5\n",
      "32/32 [==============================] - 0s 5ms/step - loss: 0.1924 - accuracy: 0.9318 - val_loss: 0.0999 - val_accuracy: 0.9625\n",
      "Epoch 64/4300\n",
      "20/32 [=================>............] - ETA: 0s - loss: 0.1696 - accuracy: 0.9406\n",
      "Epoch 64: saving model to model/keypoint_classifier\\keypoint_classifier.hdf5\n",
      "32/32 [==============================] - 0s 5ms/step - loss: 0.1804 - accuracy: 0.9360 - val_loss: 0.1020 - val_accuracy: 0.9588\n",
      "Epoch 65/4300\n",
      "21/32 [==================>...........] - ETA: 0s - loss: 0.1909 - accuracy: 0.9334\n",
      "Epoch 65: saving model to model/keypoint_classifier\\keypoint_classifier.hdf5\n",
      "32/32 [==============================] - 0s 4ms/step - loss: 0.1905 - accuracy: 0.9340 - val_loss: 0.1007 - val_accuracy: 0.9618\n",
      "Epoch 66/4300\n",
      "20/32 [=================>............] - ETA: 0s - loss: 0.1990 - accuracy: 0.9293\n",
      "Epoch 66: saving model to model/keypoint_classifier\\keypoint_classifier.hdf5\n",
      "32/32 [==============================] - 0s 4ms/step - loss: 0.1970 - accuracy: 0.9306 - val_loss: 0.0995 - val_accuracy: 0.9603\n",
      "Epoch 67/4300\n",
      "21/32 [==================>...........] - ETA: 0s - loss: 0.1785 - accuracy: 0.9379\n",
      "Epoch 67: saving model to model/keypoint_classifier\\keypoint_classifier.hdf5\n",
      "32/32 [==============================] - 0s 5ms/step - loss: 0.1771 - accuracy: 0.9368 - val_loss: 0.0985 - val_accuracy: 0.9700\n",
      "Epoch 68/4300\n",
      "21/32 [==================>...........] - ETA: 0s - loss: 0.1729 - accuracy: 0.9382\n",
      "Epoch 68: saving model to model/keypoint_classifier\\keypoint_classifier.hdf5\n",
      "32/32 [==============================] - 0s 4ms/step - loss: 0.1724 - accuracy: 0.9398 - val_loss: 0.0951 - val_accuracy: 0.9655\n",
      "Epoch 69/4300\n",
      "21/32 [==================>...........] - ETA: 0s - loss: 0.1651 - accuracy: 0.9472\n",
      "Epoch 69: saving model to model/keypoint_classifier\\keypoint_classifier.hdf5\n",
      "32/32 [==============================] - 0s 4ms/step - loss: 0.1644 - accuracy: 0.9440 - val_loss: 0.0882 - val_accuracy: 0.9648\n",
      "Epoch 70/4300\n",
      "22/32 [===================>..........] - ETA: 0s - loss: 0.1706 - accuracy: 0.9382\n",
      "Epoch 70: saving model to model/keypoint_classifier\\keypoint_classifier.hdf5\n",
      "32/32 [==============================] - 0s 4ms/step - loss: 0.1759 - accuracy: 0.9365 - val_loss: 0.0941 - val_accuracy: 0.9610\n",
      "Epoch 71/4300\n",
      "20/32 [=================>............] - ETA: 0s - loss: 0.1698 - accuracy: 0.9379\n",
      "Epoch 71: saving model to model/keypoint_classifier\\keypoint_classifier.hdf5\n",
      "32/32 [==============================] - 0s 5ms/step - loss: 0.1742 - accuracy: 0.9355 - val_loss: 0.0921 - val_accuracy: 0.9708\n",
      "Epoch 72/4300\n",
      "18/32 [===============>..............] - ETA: 0s - loss: 0.1744 - accuracy: 0.9410\n",
      "Epoch 72: saving model to model/keypoint_classifier\\keypoint_classifier.hdf5\n",
      "32/32 [==============================] - 0s 5ms/step - loss: 0.1720 - accuracy: 0.9398 - val_loss: 0.0905 - val_accuracy: 0.9648\n",
      "Epoch 73/4300\n",
      "20/32 [=================>............] - ETA: 0s - loss: 0.1521 - accuracy: 0.9473\n",
      "Epoch 73: saving model to model/keypoint_classifier\\keypoint_classifier.hdf5\n",
      "32/32 [==============================] - 0s 5ms/step - loss: 0.1636 - accuracy: 0.9420 - val_loss: 0.0880 - val_accuracy: 0.9648\n",
      "Epoch 74/4300\n",
      "19/32 [================>.............] - ETA: 0s - loss: 0.1808 - accuracy: 0.9350\n",
      "Epoch 74: saving model to model/keypoint_classifier\\keypoint_classifier.hdf5\n",
      "32/32 [==============================] - 0s 5ms/step - loss: 0.1698 - accuracy: 0.9393 - val_loss: 0.0904 - val_accuracy: 0.9700\n",
      "Epoch 75/4300\n",
      "20/32 [=================>............] - ETA: 0s - loss: 0.1713 - accuracy: 0.9410\n",
      "Epoch 75: saving model to model/keypoint_classifier\\keypoint_classifier.hdf5\n",
      "32/32 [==============================] - 0s 5ms/step - loss: 0.1622 - accuracy: 0.9425 - val_loss: 0.0876 - val_accuracy: 0.9723\n",
      "Epoch 76/4300\n",
      "20/32 [=================>............] - ETA: 0s - loss: 0.1729 - accuracy: 0.9422\n",
      "Epoch 76: saving model to model/keypoint_classifier\\keypoint_classifier.hdf5\n",
      "32/32 [==============================] - 0s 5ms/step - loss: 0.1680 - accuracy: 0.9435 - val_loss: 0.0860 - val_accuracy: 0.9678\n",
      "Epoch 77/4300\n",
      "20/32 [=================>............] - ETA: 0s - loss: 0.1634 - accuracy: 0.9418\n",
      "Epoch 77: saving model to model/keypoint_classifier\\keypoint_classifier.hdf5\n",
      "32/32 [==============================] - 0s 5ms/step - loss: 0.1625 - accuracy: 0.9453 - val_loss: 0.0813 - val_accuracy: 0.9715\n",
      "Epoch 78/4300\n",
      "21/32 [==================>...........] - ETA: 0s - loss: 0.1553 - accuracy: 0.9472\n",
      "Epoch 78: saving model to model/keypoint_classifier\\keypoint_classifier.hdf5\n",
      "32/32 [==============================] - 0s 5ms/step - loss: 0.1595 - accuracy: 0.9468 - val_loss: 0.0780 - val_accuracy: 0.9730\n",
      "Epoch 79/4300\n",
      "20/32 [=================>............] - ETA: 0s - loss: 0.1532 - accuracy: 0.9461\n",
      "Epoch 79: saving model to model/keypoint_classifier\\keypoint_classifier.hdf5\n",
      "32/32 [==============================] - 0s 5ms/step - loss: 0.1566 - accuracy: 0.9420 - val_loss: 0.0774 - val_accuracy: 0.9738\n",
      "Epoch 80/4300\n",
      "21/32 [==================>...........] - ETA: 0s - loss: 0.1569 - accuracy: 0.9379\n",
      "Epoch 80: saving model to model/keypoint_classifier\\keypoint_classifier.hdf5\n",
      "32/32 [==============================] - 0s 5ms/step - loss: 0.1607 - accuracy: 0.9395 - val_loss: 0.0772 - val_accuracy: 0.9753\n",
      "Epoch 81/4300\n",
      "19/32 [================>.............] - ETA: 0s - loss: 0.1393 - accuracy: 0.9507\n",
      "Epoch 81: saving model to model/keypoint_classifier\\keypoint_classifier.hdf5\n",
      "32/32 [==============================] - 0s 5ms/step - loss: 0.1465 - accuracy: 0.9485 - val_loss: 0.0783 - val_accuracy: 0.9708\n",
      "Epoch 82/4300\n",
      "18/32 [===============>..............] - ETA: 0s - loss: 0.1523 - accuracy: 0.9462\n",
      "Epoch 82: saving model to model/keypoint_classifier\\keypoint_classifier.hdf5\n",
      "32/32 [==============================] - 0s 5ms/step - loss: 0.1465 - accuracy: 0.9470 - val_loss: 0.0791 - val_accuracy: 0.9723\n",
      "Epoch 83/4300\n",
      "22/32 [===================>..........] - ETA: 0s - loss: 0.1400 - accuracy: 0.9485\n",
      "Epoch 83: saving model to model/keypoint_classifier\\keypoint_classifier.hdf5\n",
      "32/32 [==============================] - 0s 4ms/step - loss: 0.1404 - accuracy: 0.9483 - val_loss: 0.0825 - val_accuracy: 0.9700\n",
      "Epoch 84/4300\n"
     ]
    },
    {
     "name": "stdout",
     "output_type": "stream",
     "text": [
      "21/32 [==================>...........] - ETA: 0s - loss: 0.1585 - accuracy: 0.9453\n",
      "Epoch 84: saving model to model/keypoint_classifier\\keypoint_classifier.hdf5\n",
      "32/32 [==============================] - 0s 4ms/step - loss: 0.1542 - accuracy: 0.9475 - val_loss: 0.0748 - val_accuracy: 0.9738\n",
      "Epoch 85/4300\n",
      "24/32 [=====================>........] - ETA: 0s - loss: 0.1338 - accuracy: 0.9521\n",
      "Epoch 85: saving model to model/keypoint_classifier\\keypoint_classifier.hdf5\n",
      "32/32 [==============================] - 0s 4ms/step - loss: 0.1375 - accuracy: 0.9500 - val_loss: 0.0729 - val_accuracy: 0.9760\n",
      "Epoch 86/4300\n",
      "23/32 [====================>.........] - ETA: 0s - loss: 0.1459 - accuracy: 0.9514\n",
      "Epoch 86: saving model to model/keypoint_classifier\\keypoint_classifier.hdf5\n",
      "32/32 [==============================] - 0s 4ms/step - loss: 0.1457 - accuracy: 0.9513 - val_loss: 0.0767 - val_accuracy: 0.9723\n",
      "Epoch 87/4300\n",
      "21/32 [==================>...........] - ETA: 0s - loss: 0.1383 - accuracy: 0.9501\n",
      "Epoch 87: saving model to model/keypoint_classifier\\keypoint_classifier.hdf5\n",
      "32/32 [==============================] - 0s 5ms/step - loss: 0.1356 - accuracy: 0.9510 - val_loss: 0.0725 - val_accuracy: 0.9768\n",
      "Epoch 88/4300\n",
      "21/32 [==================>...........] - ETA: 0s - loss: 0.1469 - accuracy: 0.9490\n",
      "Epoch 88: saving model to model/keypoint_classifier\\keypoint_classifier.hdf5\n",
      "32/32 [==============================] - 0s 6ms/step - loss: 0.1443 - accuracy: 0.9488 - val_loss: 0.0743 - val_accuracy: 0.9775\n",
      "Epoch 89/4300\n",
      "26/32 [=======================>......] - ETA: 0s - loss: 0.1397 - accuracy: 0.9516\n",
      "Epoch 89: saving model to model/keypoint_classifier\\keypoint_classifier.hdf5\n",
      "32/32 [==============================] - 0s 6ms/step - loss: 0.1368 - accuracy: 0.9530 - val_loss: 0.0761 - val_accuracy: 0.9768\n",
      "Epoch 90/4300\n",
      "18/32 [===============>..............] - ETA: 0s - loss: 0.1468 - accuracy: 0.9531\n",
      "Epoch 90: saving model to model/keypoint_classifier\\keypoint_classifier.hdf5\n",
      "32/32 [==============================] - 0s 5ms/step - loss: 0.1466 - accuracy: 0.9523 - val_loss: 0.0712 - val_accuracy: 0.9760\n",
      "Epoch 91/4300\n",
      "19/32 [================>.............] - ETA: 0s - loss: 0.1332 - accuracy: 0.9486\n",
      "Epoch 91: saving model to model/keypoint_classifier\\keypoint_classifier.hdf5\n",
      "32/32 [==============================] - 0s 5ms/step - loss: 0.1393 - accuracy: 0.9498 - val_loss: 0.0714 - val_accuracy: 0.9798\n",
      "Epoch 92/4300\n",
      "18/32 [===============>..............] - ETA: 0s - loss: 0.1286 - accuracy: 0.9557\n",
      "Epoch 92: saving model to model/keypoint_classifier\\keypoint_classifier.hdf5\n",
      "32/32 [==============================] - 0s 5ms/step - loss: 0.1356 - accuracy: 0.9535 - val_loss: 0.0694 - val_accuracy: 0.9768\n",
      "Epoch 93/4300\n",
      "20/32 [=================>............] - ETA: 0s - loss: 0.1357 - accuracy: 0.9531\n",
      "Epoch 93: saving model to model/keypoint_classifier\\keypoint_classifier.hdf5\n",
      "32/32 [==============================] - 0s 5ms/step - loss: 0.1317 - accuracy: 0.9540 - val_loss: 0.0737 - val_accuracy: 0.9745\n",
      "Epoch 94/4300\n",
      "20/32 [=================>............] - ETA: 0s - loss: 0.1414 - accuracy: 0.9508\n",
      "Epoch 94: saving model to model/keypoint_classifier\\keypoint_classifier.hdf5\n",
      "32/32 [==============================] - 0s 5ms/step - loss: 0.1279 - accuracy: 0.9565 - val_loss: 0.0678 - val_accuracy: 0.9753\n",
      "Epoch 95/4300\n",
      "18/32 [===============>..............] - ETA: 0s - loss: 0.1216 - accuracy: 0.9627\n",
      "Epoch 95: saving model to model/keypoint_classifier\\keypoint_classifier.hdf5\n",
      "32/32 [==============================] - 0s 5ms/step - loss: 0.1265 - accuracy: 0.9585 - val_loss: 0.0646 - val_accuracy: 0.9813\n",
      "Epoch 96/4300\n",
      "18/32 [===============>..............] - ETA: 0s - loss: 0.1316 - accuracy: 0.9540\n",
      "Epoch 96: saving model to model/keypoint_classifier\\keypoint_classifier.hdf5\n",
      "32/32 [==============================] - 0s 5ms/step - loss: 0.1287 - accuracy: 0.9558 - val_loss: 0.0619 - val_accuracy: 0.9828\n",
      "Epoch 97/4300\n",
      "17/32 [==============>...............] - ETA: 0s - loss: 0.1201 - accuracy: 0.9550\n",
      "Epoch 97: saving model to model/keypoint_classifier\\keypoint_classifier.hdf5\n",
      "32/32 [==============================] - 0s 6ms/step - loss: 0.1182 - accuracy: 0.9583 - val_loss: 0.0631 - val_accuracy: 0.9835\n",
      "Epoch 98/4300\n",
      "18/32 [===============>..............] - ETA: 0s - loss: 0.1301 - accuracy: 0.9531\n",
      "Epoch 98: saving model to model/keypoint_classifier\\keypoint_classifier.hdf5\n",
      "32/32 [==============================] - 0s 6ms/step - loss: 0.1208 - accuracy: 0.9573 - val_loss: 0.0602 - val_accuracy: 0.9850\n",
      "Epoch 99/4300\n",
      "32/32 [==============================] - ETA: 0s - loss: 0.1196 - accuracy: 0.9605\n",
      "Epoch 99: saving model to model/keypoint_classifier\\keypoint_classifier.hdf5\n",
      "32/32 [==============================] - 0s 6ms/step - loss: 0.1196 - accuracy: 0.9605 - val_loss: 0.0655 - val_accuracy: 0.9783\n",
      "Epoch 100/4300\n",
      "17/32 [==============>...............] - ETA: 0s - loss: 0.1183 - accuracy: 0.9637\n",
      "Epoch 100: saving model to model/keypoint_classifier\\keypoint_classifier.hdf5\n",
      "32/32 [==============================] - 0s 6ms/step - loss: 0.1205 - accuracy: 0.9595 - val_loss: 0.0603 - val_accuracy: 0.9835\n",
      "Epoch 101/4300\n",
      "17/32 [==============>...............] - ETA: 0s - loss: 0.1176 - accuracy: 0.9637\n",
      "Epoch 101: saving model to model/keypoint_classifier\\keypoint_classifier.hdf5\n",
      "32/32 [==============================] - 0s 6ms/step - loss: 0.1145 - accuracy: 0.9623 - val_loss: 0.0679 - val_accuracy: 0.9783\n",
      "Epoch 102/4300\n",
      "15/32 [=============>................] - ETA: 0s - loss: 0.0980 - accuracy: 0.9656\n",
      "Epoch 102: saving model to model/keypoint_classifier\\keypoint_classifier.hdf5\n",
      "32/32 [==============================] - 0s 6ms/step - loss: 0.1039 - accuracy: 0.9645 - val_loss: 0.0584 - val_accuracy: 0.9805\n",
      "Epoch 103/4300\n",
      "17/32 [==============>...............] - ETA: 0s - loss: 0.1159 - accuracy: 0.9573\n",
      "Epoch 103: saving model to model/keypoint_classifier\\keypoint_classifier.hdf5\n",
      "32/32 [==============================] - 0s 6ms/step - loss: 0.1183 - accuracy: 0.9568 - val_loss: 0.0599 - val_accuracy: 0.9828\n",
      "Epoch 104/4300\n",
      "18/32 [===============>..............] - ETA: 0s - loss: 0.1136 - accuracy: 0.9596\n",
      "Epoch 104: saving model to model/keypoint_classifier\\keypoint_classifier.hdf5\n",
      "32/32 [==============================] - 0s 5ms/step - loss: 0.1196 - accuracy: 0.9573 - val_loss: 0.0728 - val_accuracy: 0.9753\n",
      "Epoch 105/4300\n",
      "18/32 [===============>..............] - ETA: 0s - loss: 0.1018 - accuracy: 0.9614\n",
      "Epoch 105: saving model to model/keypoint_classifier\\keypoint_classifier.hdf5\n",
      "32/32 [==============================] - 0s 5ms/step - loss: 0.1037 - accuracy: 0.9625 - val_loss: 0.0482 - val_accuracy: 0.9880\n",
      "Epoch 106/4300\n",
      "16/32 [==============>...............] - ETA: 0s - loss: 0.1036 - accuracy: 0.9683\n",
      "Epoch 106: saving model to model/keypoint_classifier\\keypoint_classifier.hdf5\n",
      "32/32 [==============================] - 0s 5ms/step - loss: 0.0966 - accuracy: 0.9688 - val_loss: 0.0511 - val_accuracy: 0.9880\n",
      "Epoch 107/4300\n",
      "17/32 [==============>...............] - ETA: 0s - loss: 0.0941 - accuracy: 0.9706\n",
      "Epoch 107: saving model to model/keypoint_classifier\\keypoint_classifier.hdf5\n",
      "32/32 [==============================] - 0s 5ms/step - loss: 0.1001 - accuracy: 0.9670 - val_loss: 0.0552 - val_accuracy: 0.9843\n",
      "Epoch 108/4300\n",
      "17/32 [==============>...............] - ETA: 0s - loss: 0.1039 - accuracy: 0.9660\n",
      "Epoch 108: saving model to model/keypoint_classifier\\keypoint_classifier.hdf5\n",
      "32/32 [==============================] - 0s 5ms/step - loss: 0.1075 - accuracy: 0.9628 - val_loss: 0.0560 - val_accuracy: 0.9903\n",
      "Epoch 109/4300\n",
      "18/32 [===============>..............] - ETA: 0s - loss: 0.0894 - accuracy: 0.9666\n",
      "Epoch 109: saving model to model/keypoint_classifier\\keypoint_classifier.hdf5\n",
      "32/32 [==============================] - 0s 5ms/step - loss: 0.0934 - accuracy: 0.9668 - val_loss: 0.0550 - val_accuracy: 0.9910\n",
      "Epoch 110/4300\n",
      "18/32 [===============>..............] - ETA: 0s - loss: 0.1069 - accuracy: 0.9635\n",
      "Epoch 110: saving model to model/keypoint_classifier\\keypoint_classifier.hdf5\n",
      "32/32 [==============================] - 0s 5ms/step - loss: 0.1043 - accuracy: 0.9645 - val_loss: 0.0560 - val_accuracy: 0.9843\n",
      "Epoch 111/4300\n"
     ]
    },
    {
     "name": "stdout",
     "output_type": "stream",
     "text": [
      "17/32 [==============>...............] - ETA: 0s - loss: 0.1064 - accuracy: 0.9665\n",
      "Epoch 111: saving model to model/keypoint_classifier\\keypoint_classifier.hdf5\n",
      "32/32 [==============================] - 0s 5ms/step - loss: 0.1049 - accuracy: 0.9648 - val_loss: 0.0484 - val_accuracy: 0.9873\n",
      "Epoch 112/4300\n",
      "22/32 [===================>..........] - ETA: 0s - loss: 0.0985 - accuracy: 0.9673\n",
      "Epoch 112: saving model to model/keypoint_classifier\\keypoint_classifier.hdf5\n",
      "32/32 [==============================] - 0s 5ms/step - loss: 0.1038 - accuracy: 0.9650 - val_loss: 0.0528 - val_accuracy: 0.9858\n",
      "Epoch 113/4300\n",
      "21/32 [==================>...........] - ETA: 0s - loss: 0.0903 - accuracy: 0.9676\n",
      "Epoch 113: saving model to model/keypoint_classifier\\keypoint_classifier.hdf5\n",
      "32/32 [==============================] - 0s 5ms/step - loss: 0.0931 - accuracy: 0.9675 - val_loss: 0.0482 - val_accuracy: 0.9873\n",
      "Epoch 114/4300\n",
      "19/32 [================>.............] - ETA: 0s - loss: 0.1070 - accuracy: 0.9630\n",
      "Epoch 114: saving model to model/keypoint_classifier\\keypoint_classifier.hdf5\n",
      "32/32 [==============================] - 0s 5ms/step - loss: 0.0962 - accuracy: 0.9683 - val_loss: 0.0462 - val_accuracy: 0.9880\n",
      "Epoch 115/4300\n",
      "20/32 [=================>............] - ETA: 0s - loss: 0.0987 - accuracy: 0.9656\n",
      "Epoch 115: saving model to model/keypoint_classifier\\keypoint_classifier.hdf5\n",
      "32/32 [==============================] - 0s 5ms/step - loss: 0.0948 - accuracy: 0.9685 - val_loss: 0.0520 - val_accuracy: 0.9873\n",
      "Epoch 116/4300\n",
      "21/32 [==================>...........] - ETA: 0s - loss: 0.1022 - accuracy: 0.9658\n",
      "Epoch 116: saving model to model/keypoint_classifier\\keypoint_classifier.hdf5\n",
      "32/32 [==============================] - 0s 5ms/step - loss: 0.1018 - accuracy: 0.9663 - val_loss: 0.0519 - val_accuracy: 0.9880\n",
      "Epoch 117/4300\n",
      "18/32 [===============>..............] - ETA: 0s - loss: 0.0964 - accuracy: 0.9696\n",
      "Epoch 117: saving model to model/keypoint_classifier\\keypoint_classifier.hdf5\n",
      "32/32 [==============================] - 0s 5ms/step - loss: 0.0936 - accuracy: 0.9698 - val_loss: 0.0462 - val_accuracy: 0.9873\n",
      "Epoch 118/4300\n",
      "19/32 [================>.............] - ETA: 0s - loss: 0.0953 - accuracy: 0.9667\n",
      "Epoch 118: saving model to model/keypoint_classifier\\keypoint_classifier.hdf5\n",
      "32/32 [==============================] - 0s 5ms/step - loss: 0.1017 - accuracy: 0.9618 - val_loss: 0.0458 - val_accuracy: 0.9865\n",
      "Epoch 119/4300\n",
      "20/32 [=================>............] - ETA: 0s - loss: 0.1056 - accuracy: 0.9641\n",
      "Epoch 119: saving model to model/keypoint_classifier\\keypoint_classifier.hdf5\n",
      "32/32 [==============================] - 0s 5ms/step - loss: 0.1037 - accuracy: 0.9650 - val_loss: 0.0505 - val_accuracy: 0.9873\n",
      "Epoch 120/4300\n",
      "20/32 [=================>............] - ETA: 0s - loss: 0.0945 - accuracy: 0.9691\n",
      "Epoch 120: saving model to model/keypoint_classifier\\keypoint_classifier.hdf5\n",
      "32/32 [==============================] - 0s 5ms/step - loss: 0.0906 - accuracy: 0.9695 - val_loss: 0.0503 - val_accuracy: 0.9858\n",
      "Epoch 121/4300\n",
      "31/32 [============================>.] - ETA: 0s - loss: 0.0971 - accuracy: 0.9695\n",
      "Epoch 121: saving model to model/keypoint_classifier\\keypoint_classifier.hdf5\n",
      "32/32 [==============================] - 0s 6ms/step - loss: 0.0968 - accuracy: 0.9695 - val_loss: 0.0723 - val_accuracy: 0.9663\n",
      "Epoch 122/4300\n",
      "32/32 [==============================] - ETA: 0s - loss: 0.0948 - accuracy: 0.9673\n",
      "Epoch 122: saving model to model/keypoint_classifier\\keypoint_classifier.hdf5\n",
      "32/32 [==============================] - 0s 6ms/step - loss: 0.0948 - accuracy: 0.9673 - val_loss: 0.0416 - val_accuracy: 0.9873\n",
      "Epoch 123/4300\n",
      "19/32 [================>.............] - ETA: 0s - loss: 0.0877 - accuracy: 0.9720\n",
      "Epoch 123: saving model to model/keypoint_classifier\\keypoint_classifier.hdf5\n",
      "32/32 [==============================] - 0s 7ms/step - loss: 0.0857 - accuracy: 0.9723 - val_loss: 0.0413 - val_accuracy: 0.9895\n",
      "Epoch 124/4300\n",
      "22/32 [===================>..........] - ETA: 0s - loss: 0.0908 - accuracy: 0.9691\n",
      "Epoch 124: saving model to model/keypoint_classifier\\keypoint_classifier.hdf5\n",
      "32/32 [==============================] - 0s 5ms/step - loss: 0.0952 - accuracy: 0.9695 - val_loss: 0.0397 - val_accuracy: 0.9880\n",
      "Epoch 125/4300\n",
      "18/32 [===============>..............] - ETA: 0s - loss: 0.0975 - accuracy: 0.9670\n",
      "Epoch 125: saving model to model/keypoint_classifier\\keypoint_classifier.hdf5\n",
      "32/32 [==============================] - 0s 5ms/step - loss: 0.0965 - accuracy: 0.9665 - val_loss: 0.0390 - val_accuracy: 0.9888\n",
      "Epoch 126/4300\n",
      "32/32 [==============================] - ETA: 0s - loss: 0.0822 - accuracy: 0.9775\n",
      "Epoch 126: saving model to model/keypoint_classifier\\keypoint_classifier.hdf5\n",
      "32/32 [==============================] - 0s 5ms/step - loss: 0.0822 - accuracy: 0.9775 - val_loss: 0.0413 - val_accuracy: 0.9903\n",
      "Epoch 127/4300\n",
      "22/32 [===================>..........] - ETA: 0s - loss: 0.0784 - accuracy: 0.9719\n",
      "Epoch 127: saving model to model/keypoint_classifier\\keypoint_classifier.hdf5\n",
      "32/32 [==============================] - 0s 5ms/step - loss: 0.0822 - accuracy: 0.9710 - val_loss: 0.0379 - val_accuracy: 0.9918\n",
      "Epoch 128/4300\n",
      "19/32 [================>.............] - ETA: 0s - loss: 0.0734 - accuracy: 0.9794\n",
      "Epoch 128: saving model to model/keypoint_classifier\\keypoint_classifier.hdf5\n",
      "32/32 [==============================] - 0s 5ms/step - loss: 0.0743 - accuracy: 0.9773 - val_loss: 0.0414 - val_accuracy: 0.9910\n",
      "Epoch 129/4300\n",
      "19/32 [================>.............] - ETA: 0s - loss: 0.0832 - accuracy: 0.9749\n",
      "Epoch 129: saving model to model/keypoint_classifier\\keypoint_classifier.hdf5\n",
      "32/32 [==============================] - 0s 5ms/step - loss: 0.0824 - accuracy: 0.9748 - val_loss: 0.0309 - val_accuracy: 0.9933\n",
      "Epoch 130/4300\n",
      "19/32 [================>.............] - ETA: 0s - loss: 0.0725 - accuracy: 0.9762\n",
      "Epoch 130: saving model to model/keypoint_classifier\\keypoint_classifier.hdf5\n",
      "32/32 [==============================] - 0s 5ms/step - loss: 0.0750 - accuracy: 0.9750 - val_loss: 0.0444 - val_accuracy: 0.9873\n",
      "Epoch 131/4300\n",
      "21/32 [==================>...........] - ETA: 0s - loss: 0.0785 - accuracy: 0.9773\n",
      "Epoch 131: saving model to model/keypoint_classifier\\keypoint_classifier.hdf5\n",
      "32/32 [==============================] - 0s 5ms/step - loss: 0.0806 - accuracy: 0.9753 - val_loss: 0.0345 - val_accuracy: 0.9903\n",
      "Epoch 132/4300\n",
      "21/32 [==================>...........] - ETA: 0s - loss: 0.0728 - accuracy: 0.9773\n",
      "Epoch 132: saving model to model/keypoint_classifier\\keypoint_classifier.hdf5\n",
      "32/32 [==============================] - 0s 5ms/step - loss: 0.0768 - accuracy: 0.9755 - val_loss: 0.0369 - val_accuracy: 0.9910\n",
      "Epoch 133/4300\n",
      "17/32 [==============>...............] - ETA: 0s - loss: 0.0760 - accuracy: 0.9752\n",
      "Epoch 133: saving model to model/keypoint_classifier\\keypoint_classifier.hdf5\n",
      "32/32 [==============================] - 0s 5ms/step - loss: 0.0769 - accuracy: 0.9768 - val_loss: 0.0380 - val_accuracy: 0.9933\n",
      "Epoch 134/4300\n",
      "18/32 [===============>..............] - ETA: 0s - loss: 0.0767 - accuracy: 0.9748\n",
      "Epoch 134: saving model to model/keypoint_classifier\\keypoint_classifier.hdf5\n",
      "32/32 [==============================] - 0s 5ms/step - loss: 0.0773 - accuracy: 0.9763 - val_loss: 0.0329 - val_accuracy: 0.9918\n",
      "Epoch 135/4300\n",
      "19/32 [================>.............] - ETA: 0s - loss: 0.0741 - accuracy: 0.9737\n",
      "Epoch 135: saving model to model/keypoint_classifier\\keypoint_classifier.hdf5\n",
      "32/32 [==============================] - 0s 5ms/step - loss: 0.0722 - accuracy: 0.9745 - val_loss: 0.0327 - val_accuracy: 0.9925\n",
      "Epoch 136/4300\n",
      "19/32 [================>.............] - ETA: 0s - loss: 0.0810 - accuracy: 0.9749\n",
      "Epoch 136: saving model to model/keypoint_classifier\\keypoint_classifier.hdf5\n",
      "32/32 [==============================] - 0s 5ms/step - loss: 0.0803 - accuracy: 0.9768 - val_loss: 0.0342 - val_accuracy: 0.9925\n",
      "Epoch 137/4300\n",
      "19/32 [================>.............] - ETA: 0s - loss: 0.0638 - accuracy: 0.9827\n",
      "Epoch 137: saving model to model/keypoint_classifier\\keypoint_classifier.hdf5\n",
      "32/32 [==============================] - 0s 5ms/step - loss: 0.0691 - accuracy: 0.9793 - val_loss: 0.0452 - val_accuracy: 0.9865\n"
     ]
    },
    {
     "name": "stdout",
     "output_type": "stream",
     "text": [
      "Epoch 138/4300\n",
      "15/32 [=============>................] - ETA: 0s - loss: 0.0677 - accuracy: 0.9792\n",
      "Epoch 138: saving model to model/keypoint_classifier\\keypoint_classifier.hdf5\n",
      "32/32 [==============================] - 0s 6ms/step - loss: 0.0642 - accuracy: 0.9795 - val_loss: 0.0345 - val_accuracy: 0.9933\n",
      "Epoch 139/4300\n",
      "19/32 [================>.............] - ETA: 0s - loss: 0.0656 - accuracy: 0.9790\n",
      "Epoch 139: saving model to model/keypoint_classifier\\keypoint_classifier.hdf5\n",
      "32/32 [==============================] - 0s 5ms/step - loss: 0.0715 - accuracy: 0.9768 - val_loss: 0.0320 - val_accuracy: 0.9933\n",
      "Epoch 140/4300\n",
      "31/32 [============================>.] - ETA: 0s - loss: 0.0727 - accuracy: 0.9733\n",
      "Epoch 140: saving model to model/keypoint_classifier\\keypoint_classifier.hdf5\n",
      "32/32 [==============================] - 0s 6ms/step - loss: 0.0723 - accuracy: 0.9735 - val_loss: 0.0393 - val_accuracy: 0.9925\n",
      "Epoch 141/4300\n",
      "18/32 [===============>..............] - ETA: 0s - loss: 0.0807 - accuracy: 0.9761\n",
      "Epoch 141: saving model to model/keypoint_classifier\\keypoint_classifier.hdf5\n",
      "32/32 [==============================] - 0s 6ms/step - loss: 0.0749 - accuracy: 0.9775 - val_loss: 0.0390 - val_accuracy: 0.9925\n",
      "Epoch 142/4300\n",
      "17/32 [==============>...............] - ETA: 0s - loss: 0.0786 - accuracy: 0.9747\n",
      "Epoch 142: saving model to model/keypoint_classifier\\keypoint_classifier.hdf5\n",
      "32/32 [==============================] - 0s 5ms/step - loss: 0.0773 - accuracy: 0.9755 - val_loss: 0.0343 - val_accuracy: 0.9933\n",
      "Epoch 143/4300\n",
      "18/32 [===============>..............] - ETA: 0s - loss: 0.0852 - accuracy: 0.9714\n",
      "Epoch 143: saving model to model/keypoint_classifier\\keypoint_classifier.hdf5\n",
      "32/32 [==============================] - 0s 6ms/step - loss: 0.0865 - accuracy: 0.9713 - val_loss: 0.0341 - val_accuracy: 0.9910\n",
      "Epoch 144/4300\n",
      "17/32 [==============>...............] - ETA: 0s - loss: 0.0736 - accuracy: 0.9743\n",
      "Epoch 144: saving model to model/keypoint_classifier\\keypoint_classifier.hdf5\n",
      "32/32 [==============================] - 0s 5ms/step - loss: 0.0750 - accuracy: 0.9753 - val_loss: 0.0386 - val_accuracy: 0.9903\n",
      "Epoch 145/4300\n",
      "19/32 [================>.............] - ETA: 0s - loss: 0.0675 - accuracy: 0.9790\n",
      "Epoch 145: saving model to model/keypoint_classifier\\keypoint_classifier.hdf5\n",
      "32/32 [==============================] - 0s 5ms/step - loss: 0.0691 - accuracy: 0.9755 - val_loss: 0.0349 - val_accuracy: 0.9940\n",
      "Epoch 146/4300\n",
      "16/32 [==============>...............] - ETA: 0s - loss: 0.0720 - accuracy: 0.9736\n",
      "Epoch 146: saving model to model/keypoint_classifier\\keypoint_classifier.hdf5\n",
      "32/32 [==============================] - 0s 5ms/step - loss: 0.0707 - accuracy: 0.9768 - val_loss: 0.0333 - val_accuracy: 0.9910\n",
      "Epoch 147/4300\n",
      "25/32 [======================>.......] - ETA: 0s - loss: 0.0726 - accuracy: 0.9747\n",
      "Epoch 147: saving model to model/keypoint_classifier\\keypoint_classifier.hdf5\n",
      "32/32 [==============================] - 0s 4ms/step - loss: 0.0689 - accuracy: 0.9753 - val_loss: 0.0417 - val_accuracy: 0.9903\n",
      "Epoch 148/4300\n",
      "24/32 [=====================>........] - ETA: 0s - loss: 0.0731 - accuracy: 0.9746\n",
      "Epoch 148: saving model to model/keypoint_classifier\\keypoint_classifier.hdf5\n",
      "32/32 [==============================] - 0s 4ms/step - loss: 0.0733 - accuracy: 0.9760 - val_loss: 0.0362 - val_accuracy: 0.9903\n",
      "Epoch 149/4300\n",
      "22/32 [===================>..........] - ETA: 0s - loss: 0.0653 - accuracy: 0.9780\n",
      "Epoch 149: saving model to model/keypoint_classifier\\keypoint_classifier.hdf5\n",
      "32/32 [==============================] - 0s 5ms/step - loss: 0.0634 - accuracy: 0.9785 - val_loss: 0.0297 - val_accuracy: 0.9933\n",
      "Epoch 150/4300\n",
      "19/32 [================>.............] - ETA: 0s - loss: 0.0572 - accuracy: 0.9811\n",
      "Epoch 150: saving model to model/keypoint_classifier\\keypoint_classifier.hdf5\n",
      "32/32 [==============================] - 0s 5ms/step - loss: 0.0553 - accuracy: 0.9833 - val_loss: 0.0282 - val_accuracy: 0.9940\n",
      "Epoch 151/4300\n",
      "19/32 [================>.............] - ETA: 0s - loss: 0.0682 - accuracy: 0.9794\n",
      "Epoch 151: saving model to model/keypoint_classifier\\keypoint_classifier.hdf5\n",
      "32/32 [==============================] - 0s 5ms/step - loss: 0.0693 - accuracy: 0.9793 - val_loss: 0.0320 - val_accuracy: 0.9933\n",
      "Epoch 152/4300\n",
      "24/32 [=====================>........] - ETA: 0s - loss: 0.0727 - accuracy: 0.9785\n",
      "Epoch 152: saving model to model/keypoint_classifier\\keypoint_classifier.hdf5\n",
      "32/32 [==============================] - 0s 4ms/step - loss: 0.0702 - accuracy: 0.9793 - val_loss: 0.0304 - val_accuracy: 0.9933\n",
      "Epoch 153/4300\n",
      "20/32 [=================>............] - ETA: 0s - loss: 0.0526 - accuracy: 0.9863\n",
      "Epoch 153: saving model to model/keypoint_classifier\\keypoint_classifier.hdf5\n",
      "32/32 [==============================] - 0s 5ms/step - loss: 0.0556 - accuracy: 0.9853 - val_loss: 0.0320 - val_accuracy: 0.9925\n",
      "Epoch 154/4300\n",
      "22/32 [===================>..........] - ETA: 0s - loss: 0.0691 - accuracy: 0.9776\n",
      "Epoch 154: saving model to model/keypoint_classifier\\keypoint_classifier.hdf5\n",
      "32/32 [==============================] - 0s 4ms/step - loss: 0.0665 - accuracy: 0.9788 - val_loss: 0.0345 - val_accuracy: 0.9940\n",
      "Epoch 155/4300\n",
      "21/32 [==================>...........] - ETA: 0s - loss: 0.0621 - accuracy: 0.9792\n",
      "Epoch 155: saving model to model/keypoint_classifier\\keypoint_classifier.hdf5\n",
      "32/32 [==============================] - 0s 5ms/step - loss: 0.0614 - accuracy: 0.9798 - val_loss: 0.0321 - val_accuracy: 0.9925\n",
      "Epoch 156/4300\n",
      "21/32 [==================>...........] - ETA: 0s - loss: 0.0559 - accuracy: 0.9799\n",
      "Epoch 156: saving model to model/keypoint_classifier\\keypoint_classifier.hdf5\n",
      "32/32 [==============================] - 0s 5ms/step - loss: 0.0564 - accuracy: 0.9815 - val_loss: 0.0286 - val_accuracy: 0.9925\n",
      "Epoch 157/4300\n",
      "23/32 [====================>.........] - ETA: 0s - loss: 0.0527 - accuracy: 0.9837\n",
      "Epoch 157: saving model to model/keypoint_classifier\\keypoint_classifier.hdf5\n",
      "32/32 [==============================] - 0s 4ms/step - loss: 0.0535 - accuracy: 0.9825 - val_loss: 0.0317 - val_accuracy: 0.9918\n",
      "Epoch 158/4300\n",
      "17/32 [==============>...............] - ETA: 0s - loss: 0.0537 - accuracy: 0.9830\n",
      "Epoch 158: saving model to model/keypoint_classifier\\keypoint_classifier.hdf5\n",
      "32/32 [==============================] - 0s 5ms/step - loss: 0.0581 - accuracy: 0.9805 - val_loss: 0.0294 - val_accuracy: 0.9933\n",
      "Epoch 159/4300\n",
      "24/32 [=====================>........] - ETA: 0s - loss: 0.0512 - accuracy: 0.9880\n",
      "Epoch 159: saving model to model/keypoint_classifier\\keypoint_classifier.hdf5\n",
      "32/32 [==============================] - 0s 4ms/step - loss: 0.0537 - accuracy: 0.9848 - val_loss: 0.0321 - val_accuracy: 0.9925\n",
      "Epoch 160/4300\n",
      "19/32 [================>.............] - ETA: 0s - loss: 0.0501 - accuracy: 0.9823\n",
      "Epoch 160: saving model to model/keypoint_classifier\\keypoint_classifier.hdf5\n",
      "32/32 [==============================] - 0s 6ms/step - loss: 0.0540 - accuracy: 0.9823 - val_loss: 0.0320 - val_accuracy: 0.9925\n",
      "Epoch 161/4300\n",
      "18/32 [===============>..............] - ETA: 0s - loss: 0.0620 - accuracy: 0.9796\n",
      "Epoch 161: saving model to model/keypoint_classifier\\keypoint_classifier.hdf5\n",
      "32/32 [==============================] - 0s 5ms/step - loss: 0.0602 - accuracy: 0.9815 - val_loss: 0.0306 - val_accuracy: 0.9925\n",
      "Epoch 162/4300\n",
      "18/32 [===============>..............] - ETA: 0s - loss: 0.0534 - accuracy: 0.9831\n",
      "Epoch 162: saving model to model/keypoint_classifier\\keypoint_classifier.hdf5\n",
      "32/32 [==============================] - 0s 6ms/step - loss: 0.0553 - accuracy: 0.9835 - val_loss: 0.0314 - val_accuracy: 0.9933\n",
      "Epoch 163/4300\n",
      "19/32 [================>.............] - ETA: 0s - loss: 0.0576 - accuracy: 0.9799\n",
      "Epoch 163: saving model to model/keypoint_classifier\\keypoint_classifier.hdf5\n",
      "32/32 [==============================] - 0s 5ms/step - loss: 0.0564 - accuracy: 0.9800 - val_loss: 0.0306 - val_accuracy: 0.9910\n",
      "Epoch 164/4300\n",
      "21/32 [==================>...........] - ETA: 0s - loss: 0.0496 - accuracy: 0.9844\n",
      "Epoch 164: saving model to model/keypoint_classifier\\keypoint_classifier.hdf5\n",
      "32/32 [==============================] - 0s 5ms/step - loss: 0.0505 - accuracy: 0.9835 - val_loss: 0.0287 - val_accuracy: 0.9940\n"
     ]
    },
    {
     "name": "stdout",
     "output_type": "stream",
     "text": [
      "Epoch 165/4300\n",
      "22/32 [===================>..........] - ETA: 0s - loss: 0.0485 - accuracy: 0.9847\n",
      "Epoch 165: saving model to model/keypoint_classifier\\keypoint_classifier.hdf5\n",
      "32/32 [==============================] - 0s 4ms/step - loss: 0.0494 - accuracy: 0.9843 - val_loss: 0.0346 - val_accuracy: 0.9933\n",
      "Epoch 166/4300\n",
      "22/32 [===================>..........] - ETA: 0s - loss: 0.0606 - accuracy: 0.9805\n",
      "Epoch 166: saving model to model/keypoint_classifier\\keypoint_classifier.hdf5\n",
      "32/32 [==============================] - 0s 4ms/step - loss: 0.0597 - accuracy: 0.9798 - val_loss: 0.0343 - val_accuracy: 0.9918\n",
      "Epoch 167/4300\n",
      "25/32 [======================>.......] - ETA: 0s - loss: 0.0577 - accuracy: 0.9806\n",
      "Epoch 167: saving model to model/keypoint_classifier\\keypoint_classifier.hdf5\n",
      "32/32 [==============================] - 0s 4ms/step - loss: 0.0560 - accuracy: 0.9810 - val_loss: 0.0330 - val_accuracy: 0.9925\n",
      "Epoch 168/4300\n",
      "24/32 [=====================>........] - ETA: 0s - loss: 0.0465 - accuracy: 0.9857\n",
      "Epoch 168: saving model to model/keypoint_classifier\\keypoint_classifier.hdf5\n",
      "32/32 [==============================] - 0s 4ms/step - loss: 0.0498 - accuracy: 0.9845 - val_loss: 0.0265 - val_accuracy: 0.9940\n",
      "Epoch 169/4300\n",
      "25/32 [======================>.......] - ETA: 0s - loss: 0.0567 - accuracy: 0.9834\n",
      "Epoch 169: saving model to model/keypoint_classifier\\keypoint_classifier.hdf5\n",
      "32/32 [==============================] - 0s 4ms/step - loss: 0.0559 - accuracy: 0.9835 - val_loss: 0.0300 - val_accuracy: 0.9933\n",
      "Epoch 170/4300\n",
      "23/32 [====================>.........] - ETA: 0s - loss: 0.0525 - accuracy: 0.9813\n",
      "Epoch 170: saving model to model/keypoint_classifier\\keypoint_classifier.hdf5\n",
      "32/32 [==============================] - 0s 4ms/step - loss: 0.0534 - accuracy: 0.9808 - val_loss: 0.0316 - val_accuracy: 0.9918\n",
      "Epoch 171/4300\n",
      "24/32 [=====================>........] - ETA: 0s - loss: 0.0511 - accuracy: 0.9847\n",
      "Epoch 171: saving model to model/keypoint_classifier\\keypoint_classifier.hdf5\n",
      "32/32 [==============================] - 0s 4ms/step - loss: 0.0520 - accuracy: 0.9850 - val_loss: 0.0226 - val_accuracy: 0.9933\n",
      "Epoch 172/4300\n",
      "22/32 [===================>..........] - ETA: 0s - loss: 0.0590 - accuracy: 0.9805\n",
      "Epoch 172: saving model to model/keypoint_classifier\\keypoint_classifier.hdf5\n",
      "32/32 [==============================] - 0s 4ms/step - loss: 0.0559 - accuracy: 0.9820 - val_loss: 0.0291 - val_accuracy: 0.9925\n",
      "Epoch 173/4300\n",
      "25/32 [======================>.......] - ETA: 0s - loss: 0.0627 - accuracy: 0.9791\n",
      "Epoch 173: saving model to model/keypoint_classifier\\keypoint_classifier.hdf5\n",
      "32/32 [==============================] - 0s 4ms/step - loss: 0.0598 - accuracy: 0.9803 - val_loss: 0.0296 - val_accuracy: 0.9933\n",
      "Epoch 174/4300\n",
      "24/32 [=====================>........] - ETA: 0s - loss: 0.0492 - accuracy: 0.9844\n",
      "Epoch 174: saving model to model/keypoint_classifier\\keypoint_classifier.hdf5\n",
      "32/32 [==============================] - 0s 4ms/step - loss: 0.0482 - accuracy: 0.9843 - val_loss: 0.0241 - val_accuracy: 0.9940\n",
      "Epoch 175/4300\n",
      "22/32 [===================>..........] - ETA: 0s - loss: 0.0513 - accuracy: 0.9844\n",
      "Epoch 175: saving model to model/keypoint_classifier\\keypoint_classifier.hdf5\n",
      "32/32 [==============================] - 0s 4ms/step - loss: 0.0566 - accuracy: 0.9828 - val_loss: 0.0294 - val_accuracy: 0.9933\n",
      "Epoch 176/4300\n",
      "24/32 [=====================>........] - ETA: 0s - loss: 0.0601 - accuracy: 0.9798\n",
      "Epoch 176: saving model to model/keypoint_classifier\\keypoint_classifier.hdf5\n",
      "32/32 [==============================] - 0s 4ms/step - loss: 0.0619 - accuracy: 0.9805 - val_loss: 0.0288 - val_accuracy: 0.9933\n",
      "Epoch 177/4300\n",
      "24/32 [=====================>........] - ETA: 0s - loss: 0.0470 - accuracy: 0.9857\n",
      "Epoch 177: saving model to model/keypoint_classifier\\keypoint_classifier.hdf5\n",
      "32/32 [==============================] - 0s 4ms/step - loss: 0.0450 - accuracy: 0.9865 - val_loss: 0.0336 - val_accuracy: 0.9918\n",
      "Epoch 178/4300\n",
      "24/32 [=====================>........] - ETA: 0s - loss: 0.0461 - accuracy: 0.9857\n",
      "Epoch 178: saving model to model/keypoint_classifier\\keypoint_classifier.hdf5\n",
      "32/32 [==============================] - 0s 4ms/step - loss: 0.0494 - accuracy: 0.9848 - val_loss: 0.0244 - val_accuracy: 0.9940\n",
      "Epoch 179/4300\n",
      "25/32 [======================>.......] - ETA: 0s - loss: 0.0418 - accuracy: 0.9859\n",
      "Epoch 179: saving model to model/keypoint_classifier\\keypoint_classifier.hdf5\n",
      "32/32 [==============================] - 0s 4ms/step - loss: 0.0422 - accuracy: 0.9868 - val_loss: 0.0264 - val_accuracy: 0.9933\n",
      "Epoch 180/4300\n",
      "23/32 [====================>.........] - ETA: 0s - loss: 0.0502 - accuracy: 0.9817\n",
      "Epoch 180: saving model to model/keypoint_classifier\\keypoint_classifier.hdf5\n",
      "32/32 [==============================] - 0s 4ms/step - loss: 0.0509 - accuracy: 0.9820 - val_loss: 0.0285 - val_accuracy: 0.9933\n",
      "Epoch 181/4300\n",
      "24/32 [=====================>........] - ETA: 0s - loss: 0.0447 - accuracy: 0.9867\n",
      "Epoch 181: saving model to model/keypoint_classifier\\keypoint_classifier.hdf5\n",
      "32/32 [==============================] - 0s 4ms/step - loss: 0.0435 - accuracy: 0.9870 - val_loss: 0.0287 - val_accuracy: 0.9940\n",
      "Epoch 182/4300\n",
      "25/32 [======================>.......] - ETA: 0s - loss: 0.0548 - accuracy: 0.9862\n",
      "Epoch 182: saving model to model/keypoint_classifier\\keypoint_classifier.hdf5\n",
      "32/32 [==============================] - 0s 4ms/step - loss: 0.0526 - accuracy: 0.9858 - val_loss: 0.0309 - val_accuracy: 0.9933\n",
      "Epoch 183/4300\n",
      "23/32 [====================>.........] - ETA: 0s - loss: 0.0617 - accuracy: 0.9830\n",
      "Epoch 183: saving model to model/keypoint_classifier\\keypoint_classifier.hdf5\n",
      "32/32 [==============================] - 0s 4ms/step - loss: 0.0573 - accuracy: 0.9833 - val_loss: 0.0249 - val_accuracy: 0.9933\n",
      "Epoch 184/4300\n",
      "24/32 [=====================>........] - ETA: 0s - loss: 0.0496 - accuracy: 0.9831\n",
      "Epoch 184: saving model to model/keypoint_classifier\\keypoint_classifier.hdf5\n",
      "32/32 [==============================] - 0s 4ms/step - loss: 0.0491 - accuracy: 0.9848 - val_loss: 0.0236 - val_accuracy: 0.9940\n",
      "Epoch 185/4300\n",
      "25/32 [======================>.......] - ETA: 0s - loss: 0.0459 - accuracy: 0.9862\n",
      "Epoch 185: saving model to model/keypoint_classifier\\keypoint_classifier.hdf5\n",
      "32/32 [==============================] - 0s 4ms/step - loss: 0.0501 - accuracy: 0.9855 - val_loss: 0.0263 - val_accuracy: 0.9948\n",
      "Epoch 186/4300\n",
      "24/32 [=====================>........] - ETA: 0s - loss: 0.0523 - accuracy: 0.9844\n",
      "Epoch 186: saving model to model/keypoint_classifier\\keypoint_classifier.hdf5\n",
      "32/32 [==============================] - 0s 4ms/step - loss: 0.0500 - accuracy: 0.9860 - val_loss: 0.0306 - val_accuracy: 0.9933\n",
      "Epoch 187/4300\n",
      "25/32 [======================>.......] - ETA: 0s - loss: 0.0475 - accuracy: 0.9837\n",
      "Epoch 187: saving model to model/keypoint_classifier\\keypoint_classifier.hdf5\n",
      "32/32 [==============================] - 0s 4ms/step - loss: 0.0504 - accuracy: 0.9835 - val_loss: 0.0265 - val_accuracy: 0.9933\n",
      "Epoch 188/4300\n",
      "24/32 [=====================>........] - ETA: 0s - loss: 0.0490 - accuracy: 0.9818\n",
      "Epoch 188: saving model to model/keypoint_classifier\\keypoint_classifier.hdf5\n",
      "32/32 [==============================] - 0s 4ms/step - loss: 0.0475 - accuracy: 0.9833 - val_loss: 0.0259 - val_accuracy: 0.9933\n",
      "Epoch 189/4300\n",
      "25/32 [======================>.......] - ETA: 0s - loss: 0.0388 - accuracy: 0.9878\n",
      "Epoch 189: saving model to model/keypoint_classifier\\keypoint_classifier.hdf5\n",
      "32/32 [==============================] - 0s 4ms/step - loss: 0.0410 - accuracy: 0.9873 - val_loss: 0.0316 - val_accuracy: 0.9925\n",
      "Epoch 190/4300\n",
      "25/32 [======================>.......] - ETA: 0s - loss: 0.0530 - accuracy: 0.9831\n",
      "Epoch 190: saving model to model/keypoint_classifier\\keypoint_classifier.hdf5\n",
      "32/32 [==============================] - 0s 4ms/step - loss: 0.0516 - accuracy: 0.9840 - val_loss: 0.0352 - val_accuracy: 0.9925\n",
      "Epoch 191/4300\n",
      "23/32 [====================>.........] - ETA: 0s - loss: 0.0392 - accuracy: 0.9874\n",
      "Epoch 191: saving model to model/keypoint_classifier\\keypoint_classifier.hdf5\n",
      "32/32 [==============================] - 0s 4ms/step - loss: 0.0390 - accuracy: 0.9873 - val_loss: 0.0252 - val_accuracy: 0.9933\n"
     ]
    },
    {
     "name": "stdout",
     "output_type": "stream",
     "text": [
      "Epoch 191: early stopping\n"
     ]
    },
    {
     "data": {
      "text/plain": [
       "<keras.src.callbacks.History at 0x1dd21627610>"
      ]
     },
     "execution_count": 135,
     "metadata": {},
     "output_type": "execute_result"
    }
   ],
   "source": [
    "model.fit(\n",
    "    X_train,\n",
    "    y_train,\n",
    "    epochs=100*NUM_CLASSES,\n",
    "    batch_size=128,\n",
    "    validation_data=(X_test, y_test),\n",
    "    callbacks=[cp_callback, es_callback]\n",
    ")"
   ]
  },
  {
   "cell_type": "code",
   "execution_count": 136,
   "metadata": {
    "colab": {
     "base_uri": "https://localhost:8080/"
    },
    "id": "pxvb2Y299hE3",
    "outputId": "59eb3185-2e37-4b9e-bc9d-ab1b8ac29b7f"
   },
   "outputs": [
    {
     "name": "stdout",
     "output_type": "stream",
     "text": [
      "11/11 [==============================] - 0s 2ms/step - loss: 0.0252 - accuracy: 0.9933\n"
     ]
    }
   ],
   "source": [
    "# Model evaluation\n",
    "val_loss, val_acc = model.evaluate(X_test, y_test, batch_size=128)"
   ]
  },
  {
   "cell_type": "code",
   "execution_count": 137,
   "metadata": {
    "id": "RBkmDeUW9hE4"
   },
   "outputs": [],
   "source": [
    "# Loading the saved model\n",
    "model = tf.keras.models.load_model(model_save_path)"
   ]
  },
  {
   "cell_type": "code",
   "execution_count": 138,
   "metadata": {
    "colab": {
     "base_uri": "https://localhost:8080/"
    },
    "id": "tFz9Tb0I9hE4",
    "outputId": "1c3b3528-54ae-4ee2-ab04-77429211cbef"
   },
   "outputs": [
    {
     "name": "stdout",
     "output_type": "stream",
     "text": [
      "1/1 [==============================] - 0s 50ms/step\n",
      "[2.51908994e-10 1.17388399e-09 2.32687216e-05 4.29765823e-09\n",
      " 9.53800483e-10 3.05428983e-07 7.45667819e-07 1.05960900e-07\n",
      " 1.39649428e-05 1.40084194e-06 8.50391590e-10 1.18320700e-11\n",
      " 3.27096369e-13 2.01253325e-08 1.48505608e-08 3.72106568e-09\n",
      " 1.24114404e-05 5.35639004e-14 1.95544358e-10 2.73648890e-08\n",
      " 4.11506363e-07 7.99987715e-11 4.29841024e-10 2.07323225e-08\n",
      " 1.28789424e-07 3.65791035e-12 7.88334287e-09 9.98980343e-01\n",
      " 4.91779756e-05 5.67629677e-09 1.35091604e-16 2.28714363e-14\n",
      " 1.14856435e-17 2.44446471e-18 1.44979428e-12 3.36755499e-13\n",
      " 4.70494961e-05 8.70572694e-04 1.15648918e-13 6.85887924e-13\n",
      " 9.09632014e-09 3.48386074e-14 2.91394547e-11]\n",
      "27\n"
     ]
    }
   ],
   "source": [
    "# Inference test\n",
    "predict_result = model.predict(np.array([X_test[0]]))\n",
    "print(np.squeeze(predict_result))\n",
    "print(np.argmax(np.squeeze(predict_result)))"
   ]
  },
  {
   "cell_type": "markdown",
   "metadata": {
    "id": "S3U4yNWx9hE4"
   },
   "source": [
    "# Confusion matrix"
   ]
  },
  {
   "cell_type": "code",
   "execution_count": 139,
   "metadata": {
    "colab": {
     "base_uri": "https://localhost:8080/",
     "height": 582
    },
    "id": "AP1V6SCk9hE5",
    "outputId": "08e41a80-7a4a-4619-8125-ecc371368d19"
   },
   "outputs": [
    {
     "name": "stdout",
     "output_type": "stream",
     "text": [
      "42/42 [==============================] - 0s 832us/step\n"
     ]
    },
    {
     "data": {
      "image/png": "[encoded data removed]",
      "text/plain": [
       "<Figure size 700x600 with 2 Axes>"
      ]
     },
     "metadata": {},
     "output_type": "display_data"
    },
    {
     "name": "stdout",
     "output_type": "stream",
     "text": [
      "Classification Report\n",
      "              precision    recall  f1-score   support\n",
      "\n",
      "           0       0.96      1.00      0.98        27\n",
      "           1       1.00      1.00      1.00        44\n",
      "           2       0.96      1.00      0.98        54\n",
      "           3       1.00      1.00      1.00        54\n",
      "           4       1.00      0.98      0.99        42\n",
      "           5       1.00      1.00      1.00        38\n",
      "           6       1.00      1.00      1.00        36\n",
      "           7       1.00      1.00      1.00        22\n",
      "           8       1.00      1.00      1.00        27\n",
      "           9       1.00      1.00      1.00        26\n",
      "          10       0.96      1.00      0.98        24\n",
      "          11       0.96      1.00      0.98        23\n",
      "          12       0.97      1.00      0.98        32\n",
      "          13       1.00      1.00      1.00        27\n",
      "          14       1.00      1.00      1.00        22\n",
      "          15       0.98      1.00      0.99        41\n",
      "          16       1.00      1.00      1.00        43\n",
      "          17       1.00      1.00      1.00        27\n",
      "          18       1.00      0.97      0.98        32\n",
      "          19       1.00      0.97      0.98        30\n",
      "          20       1.00      0.96      0.98        25\n",
      "          21       1.00      1.00      1.00        40\n",
      "          22       1.00      1.00      1.00        25\n",
      "          23       1.00      1.00      1.00        34\n",
      "          24       1.00      0.96      0.98        26\n",
      "          25       1.00      1.00      1.00        36\n",
      "          26       1.00      1.00      1.00        23\n",
      "          27       1.00      1.00      1.00        26\n",
      "          28       1.00      1.00      1.00        24\n",
      "          29       1.00      1.00      1.00        30\n",
      "          30       1.00      1.00      1.00        27\n",
      "          31       0.89      1.00      0.94        17\n",
      "          32       1.00      1.00      1.00        32\n",
      "          33       1.00      1.00      1.00        22\n",
      "          34       1.00      1.00      1.00        26\n",
      "          35       1.00      1.00      1.00        33\n",
      "          36       1.00      0.97      0.98        30\n",
      "          37       1.00      0.95      0.98        22\n",
      "          38       1.00      1.00      1.00        41\n",
      "          39       1.00      1.00      1.00        31\n",
      "          40       1.00      0.94      0.97        31\n",
      "          41       1.00      1.00      1.00        27\n",
      "          42       1.00      1.00      1.00        36\n",
      "\n",
      "    accuracy                           0.99      1335\n",
      "   macro avg       0.99      0.99      0.99      1335\n",
      "weighted avg       0.99      0.99      0.99      1335\n",
      "\n"
     ]
    }
   ],
   "source": [
    "import pandas as pd\n",
    "import seaborn as sns\n",
    "import matplotlib.pyplot as plt\n",
    "from sklearn.metrics import confusion_matrix, classification_report\n",
    "\n",
    "def print_confusion_matrix(y_true, y_pred, report=True):\n",
    "    labels = sorted(list(set(y_true)))\n",
    "    cmx_data = confusion_matrix(y_true, y_pred, labels=labels)\n",
    "    \n",
    "    df_cmx = pd.DataFrame(cmx_data, index=labels, columns=labels)\n",
    " \n",
    "    fig, ax = plt.subplots(figsize=(7, 6))\n",
    "    sns.heatmap(df_cmx, annot=True, fmt='g' ,square=False)\n",
    "    ax.set_ylim(len(set(y_true)), 0)\n",
    "    plt.show()\n",
    "    \n",
    "    if report:\n",
    "        print('Classification Report')\n",
    "        print(classification_report(y_test, y_pred))\n",
    "\n",
    "Y_pred = model.predict(X_test)\n",
    "y_pred = np.argmax(Y_pred, axis=1)\n",
    "\n",
    "print_confusion_matrix(y_test, y_pred)"
   ]
  },
  {
   "cell_type": "markdown",
   "metadata": {
    "id": "FNP6aqzc9hE5"
   },
   "source": [
    "# Convert to model for Tensorflow-Lite"
   ]
  },
  {
   "cell_type": "code",
   "execution_count": 140,
   "metadata": {
    "id": "ODjnYyld9hE6"
   },
   "outputs": [
    {
     "name": "stderr",
     "output_type": "stream",
     "text": [
      "C:\\Users\\Sanjay\\AppData\\Local\\Programs\\Python\\Python39\\lib\\site-packages\\keras\\src\\engine\\training.py:3000: UserWarning: You are saving your model as an HDF5 file via `model.save()`. This file format is considered legacy. We recommend using instead the native Keras format, e.g. `model.save('my_model.keras')`.\n",
      "  saving_api.save_model(\n"
     ]
    }
   ],
   "source": [
    "# Save as a model dedicated to inference\n",
    "model.save(model_save_path, include_optimizer=False)"
   ]
  },
  {
   "cell_type": "code",
   "execution_count": 141,
   "metadata": {
    "colab": {
     "base_uri": "https://localhost:8080/"
    },
    "id": "zRfuK8Y59hE6",
    "outputId": "a4ca585c-b5d5-4244-8291-8674063209bb"
   },
   "outputs": [
    {
     "name": "stdout",
     "output_type": "stream",
     "text": [
      "INFO:tensorflow:Assets written to: C:\\Users\\Sanjay\\AppData\\Local\\Temp\\tmpkcx33zi3\\assets\n"
     ]
    },
    {
     "name": "stderr",
     "output_type": "stream",
     "text": [
      "INFO:tensorflow:Assets written to: C:\\Users\\Sanjay\\AppData\\Local\\Temp\\tmpkcx33zi3\\assets\n"
     ]
    },
    {
     "data": {
      "text/plain": [
       "25912"
      ]
     },
     "execution_count": 141,
     "metadata": {},
     "output_type": "execute_result"
    }
   ],
   "source": [
    "# Transform model (quantization)\n",
    "\n",
    "converter = tf.lite.TFLiteConverter.from_keras_model(model)\n",
    "converter.optimizations = [tf.lite.Optimize.DEFAULT]\n",
    "tflite_quantized_model = converter.convert()\n",
    "\n",
    "open(tflite_save_path, 'wb').write(tflite_quantized_model)"
   ]
  },
  {
   "cell_type": "markdown",
   "metadata": {
    "id": "CHBPBXdx9hE6"
   },
   "source": [
    "# Inference test"
   ]
  },
  {
   "cell_type": "code",
   "execution_count": 142,
   "metadata": {
    "id": "mGAzLocO9hE7"
   },
   "outputs": [],
   "source": [
    "interpreter = tf.lite.Interpreter(model_path=tflite_save_path)\n",
    "interpreter.allocate_tensors()"
   ]
  },
  {
   "cell_type": "code",
   "execution_count": 143,
   "metadata": {
    "id": "oQuDK8YS9hE7"
   },
   "outputs": [],
   "source": [
    "# Get I / O tensor\n",
    "input_details = interpreter.get_input_details()\n",
    "output_details = interpreter.get_output_details()"
   ]
  },
  {
   "cell_type": "code",
   "execution_count": 144,
   "metadata": {
    "id": "2_ixAf_l9hE7"
   },
   "outputs": [],
   "source": [
    "interpreter.set_tensor(input_details[0]['index'], np.array([X_test[0]]))"
   ]
  },
  {
   "cell_type": "code",
   "execution_count": 145,
   "metadata": {
    "colab": {
     "base_uri": "https://localhost:8080/"
    },
    "id": "s4FoAnuc9hE7",
    "outputId": "91f18257-8d8b-4ef3-c558-e9b5f94fabbf",
    "scrolled": true
   },
   "outputs": [
    {
     "name": "stdout",
     "output_type": "stream",
     "text": [
      "CPU times: total: 0 ns\n",
      "Wall time: 517 µs\n"
     ]
    }
   ],
   "source": [
    "%%time\n",
    "# Inference implementation\n",
    "interpreter.invoke()\n",
    "tflite_results = interpreter.get_tensor(output_details[0]['index'])"
   ]
  },
  {
   "cell_type": "code",
   "execution_count": 146,
   "metadata": {
    "colab": {
     "base_uri": "https://localhost:8080/"
    },
    "id": "vONjp19J9hE8",
    "outputId": "77205e24-fd00-42c4-f7b6-e06e527c2cba"
   },
   "outputs": [
    {
     "name": "stdout",
     "output_type": "stream",
     "text": [
      "[1.8566544e-10 1.1168754e-09 1.7330425e-05 3.1565364e-09 9.2206798e-10\n",
      " 2.1635405e-07 4.6511150e-07 1.0419552e-07 1.0053699e-05 1.1045106e-06\n",
      " 7.6999346e-10 7.0631287e-12 3.1242993e-13 1.8348226e-08 1.2430834e-08\n",
      " 3.4944074e-09 7.6248821e-06 4.4977182e-14 1.9231799e-10 2.6137045e-08\n",
      " 2.8929045e-07 7.1452448e-11 3.8936321e-10 1.6605732e-08 8.5390880e-08\n",
      " 3.1840568e-12 6.5836323e-09 9.9908793e-01 4.2074062e-05 3.6771772e-09\n",
      " 1.0076265e-16 2.1319274e-14 8.1406963e-18 1.8873383e-18 8.7415475e-13\n",
      " 2.1780111e-13 4.3289325e-05 7.8938343e-04 8.9995773e-14 4.1292620e-13\n",
      " 7.4245325e-09 2.0875683e-14 1.7222076e-11]\n",
      "27\n"
     ]
    }
   ],
   "source": [
    "print(np.squeeze(tflite_results))\n",
    "print(np.argmax(np.squeeze(tflite_results)))"
   ]
  },
  {
   "cell_type": "code",
   "execution_count": null,
   "metadata": {},
   "outputs": [],
   "source": []
  },
  {
   "cell_type": "code",
   "execution_count": null,
   "metadata": {},
   "outputs": [],
   "source": []
  },
  {
   "cell_type": "code",
   "execution_count": null,
   "metadata": {},
   "outputs": [],
   "source": []
  }
 ],
 "metadata": {
  "accelerator": "GPU",
  "colab": {
   "collapsed_sections": [],
   "name": "keypoint_classification_EN.ipynb",
   "provenance": [],
   "toc_visible": true
  },
  "kernelspec": {
   "display_name": "Python 3 (ipykernel)",
   "language": "python",
   "name": "python3"
  },
  "language_info": {
   "codemirror_mode": {
    "name": "ipython",
    "version": 3
   },
   "file_extension": ".py",
   "mimetype": "text/x-python",
   "name": "python",
   "nbconvert_exporter": "python",
   "pygments_lexer": "ipython3",
   "version": "3.9.7"
  }
 },
 "nbformat": 4,
 "nbformat_minor": 1
}
